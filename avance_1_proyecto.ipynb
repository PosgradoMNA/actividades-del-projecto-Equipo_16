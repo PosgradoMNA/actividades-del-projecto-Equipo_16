{
  "nbformat": 4,
  "nbformat_minor": 0,
  "metadata": {
    "colab": {
      "provenance": [],
      "collapsed_sections": [],
      "authorship_tag": "ABX9TyNboo5nbxB1Tced130D+CXX",
      "include_colab_link": true
    },
    "kernelspec": {
      "name": "python3",
      "display_name": "Python 3"
    },
    "language_info": {
      "name": "python"
    }
  },
  "cells": [
    {
      "cell_type": "markdown",
      "metadata": {
        "id": "view-in-github",
        "colab_type": "text"
      },
      "source": [
        "<a href=\"https://colab.research.google.com/github/PosgradoMNA/actividades-del-projecto-Equipo_16/blob/main/avance_1_proyecto.ipynb\" target=\"_parent\"><img src=\"https://colab.research.google.com/assets/colab-badge.svg\" alt=\"Open In Colab\"/></a>"
      ]
    },
    {
      "cell_type": "markdown",
      "source": [
        "**Avance 1 del proyecto final: Ciencia y analítica de datos**\n",
        "\n",
        "En el presente motebook se introduce la explicación de la base de datos preliminar escogida para desarrollar en el proyecto final de la materia:\n",
        "\n",
        "a. Nombre del data set: Water Quality\n",
        "\n",
        "b. Organización que generó la base de datos: esta base de datos fue encontrada como publica en la herramienta de Kaggle. En este caso no está relacionada con una entidad específica (al menos no se detalla), sin embargo, Estados Unidos cuenta con la Agencia de protección ambiental (https://www.epa.gov/waterdata/water-quality-data) y existe una página del estado de California con resultados de laboratorio de la calidad del agua. Por lo tanto, se puede decir que el data set estaría asociado a alguna entidad de este tipo o similar a estas. \n",
        "\n",
        "Conocer estas entidades, también ayuda a verificar el uso de las variables disponibles en el data set como importnates en la medición de la calidad del agua. \n",
        "\n",
        "\n",
        "c. Descripción de la base de datos\n",
        "\n",
        "La base de datos cuenta con 3.776 registros, de los cuales 1.278 están marcados con la clase 1, es decir que son obervaciones en los que el agusa es potable. \n",
        "\n",
        "Adicional a esto, cuenta con variables de:\n",
        " - PH\n",
        " - Hardness\n",
        " - Sólidos\n",
        " - Sulfatos\n",
        " - Conductividad \n",
        " - Carbon orgánico\n",
        "\n",
        " Y otras métricas relacionadas con resultados de laboratorios. Así mismo, como ya se mencionó, se cuenta con el label correspondiente por observación.\n",
        "\n",
        " A continuación está el link a la base de datos:\n",
        " https://www.kaggle.com/datasets/adityakadiwal/water-potability\n",
        "\n",
        "d. Algunas preguntas de investigación\n",
        "\n",
        "A continuación se enlistan algunas preguntas que pueden ser relevantes para trabajar durante el desarrollo del proyecto. estas preguntas fueron pensadas, teniendo en cuenta la importancia social de la propuesta y de la posible metodología a desarrollar: \n",
        "\n",
        "1. ¿cuáles son las variables con mayor importancia para determinar la potabilidad del agua?\n",
        "2. ¿existen otras variables que no se encuenteen en el dataset que se relacionen con la potabilidad de este líquido? \n",
        "3. ¿Las variables con mayor relevancia en la clasificación pueden ser medidas facilmente con sensores? \n",
        "4. ¿A quienes les podría interesar predecir la potabilidad del agua?\n",
        "5. ¿Existe algún patrón en las variables asociadas al agua no potable? Es decir, pueden existir distintas interacciones entre las variables que estén asociadas a la potabilidad del agua? \n",
        "6. ¿La identificación de las interacciones podría ayudar a prevenir que el agua llegue a no ser potable?\n",
        "7. ¿Cómo es la calidad de la data del data set?\n",
        "\n",
        "\n",
        "\n",
        "e. ¿Qué actor (empresa, sector de la sociedad, organismo descentralizado, gobierno, etc.) estaría interesado en las preguntas mencionadas que identificó?\n",
        "\n",
        "Alguna entidad del estado como las que se mencionarone en el numeral b podría estar interesada en los hallazgos. Así mismo, si se logra investigar si las variables son medibles por sensores , los resultados pueden interesarle a alguna empreza que desarrolle productos electrónicos."
      ],
      "metadata": {
        "id": "ljhrWdrqFgaA"
      }
    }
  ]
}