{
  "nbformat": 4,
  "nbformat_minor": 0,
  "metadata": {
    "colab": {
      "provenance": [],
      "authorship_tag": "ABX9TyM0jnSKOlCGvWmsQNQePmBf",
      "include_colab_link": true
    },
    "kernelspec": {
      "name": "python3",
      "display_name": "Python 3"
    },
    "language_info": {
      "name": "python"
    }
  },
  "cells": [
    {
      "cell_type": "markdown",
      "metadata": {
        "id": "view-in-github",
        "colab_type": "text"
      },
      "source": [
        "<a href=\"https://colab.research.google.com/github/PosgradoMNA/actividades-del-projecto-Equipo_16/blob/main/Semana3-Actividad1.ipynb\" target=\"_parent\"><img src=\"https://colab.research.google.com/assets/colab-badge.svg\" alt=\"Open In Colab\"/></a>"
      ]
    },
    {
      "cell_type": "markdown",
      "source": [
        "##**Semana 3 - Actividad 1**\n",
        "\n",
        "###Maestría en Inteligencia Artificial Aplicada\n",
        "###Curso: TC4029.10 Ciencia y analítica de datos (Gpo 10)\n",
        "\n",
        "###Tecnológico de Monterrey\n",
        "\n",
        "###Prof: Jobish Vallikavungal Devassia\n",
        "\n",
        "###**Mateo Cruz Lanchero - Matricula A01793882**\n",
        "###**Johan Andrés Castro**\n",
        "\n",
        "4 de octubre del 2022"
      ],
      "metadata": {
        "id": "OyC8iIhb4mu8"
      }
    },
    {
      "cell_type": "markdown",
      "source": [
        "\n",
        "###**Parte 1: Fundamentos de bases de datos**\n",
        "\n",
        "**1. Fundamentos de bases de datos y para ciencia de datos.**\n",
        "\n",
        "Una base de datos  puede entenderse como una colección de información que tiene un orden o estructura específica (datos estructurados) y cuyo contenido está relacionado o vinculado a actividades específicas. Esta base de datos puede contener tablas que consisten en filas (observaciones) y columnas (categorías), y la intersección entre dichos elementos se denomina \"celda\". Las observaciones categóricas son datos o registros, conjuntos de los cuales forman una  base de datos. Los profesionales que trabajan con bases de datos se denominan \"científicos de datos\" y necesitan comprender los datos que tienen a su disposición para analizarlos y apoyar la toma de decisiones. Hacer esto requiere amplios conocimientos teóricos y habilidades para trabajar con las tecnologías disponibles que nos permitan manipular  datos y obtener información para encontrar relaciones o predecir el comportamiento de determinado modelo. Debemos tener en cuenta que un buen conjunto de datos también es un aspecto importante, ya que los datos son la parte fundamental del modelo y determinan en gran medida su rendimiento. Un profesional que realiza esta tarea dedica unos 80% de tiempo a la recogida y preparación. Existen un enfoque de bases de datos  que manejan en repositorios estos registros con estándares específicos, que requieren un sistema de gestión de datos (DBMS), y los sus lenguajes para manipular dichos datos, estos incluyen DML (query lenguage) y SQL (Structured Query Language)."
      ],
      "metadata": {
        "id": "2lU8jeCO576R"
      }
    },
    {
      "cell_type": "markdown",
      "source": [
        "**2. Fundamentos de almacenes de datos (Data Warehouse) para ciencia de datos.**\n",
        "\n",
        "Un \"almacén de datos\", comúnmente conocido como almacén de datos, es una gran base de datos  que reúne datos de múltiples fuentes dispares. Es un sistema diseñado para habilitar y respaldar actividades de análisis y ciencia de datos porque contiene una gran cantidad de datos históricos. Uno de sus desafíos es  tomar  datos de varias fuentes y transformarlos en un esquema que permita consultas simultáneas. \n",
        " Además de la normalización de datos, los datos de múltiples fuentes deben correlacionarse con el trabajo. Hay dos términos clave en el almacenamiento de datos: ETL (extracción, transformación y carga) y ELT (extracción, carga y transformación). Como sugiere su nombre, ETL consiste en extraer, transformar y cargar datos en un almacén de datos. El punto es que la transformación puede convertirse en un cuello de botella cuando los datos alcanzan una escala muy grande. ELT entra aquí, los extrae, los carga y  los transforma después de cargarlos. Esto es muy útil para la ciencia de datos, ya que le permite utilizar el procesamiento de repositorios para la transformación de datos."
      ],
      "metadata": {
        "id": "sPOGrBF_6SIk"
      }
    },
    {
      "cell_type": "markdown",
      "source": [
        "##**Parte 2: Selección y limpieza de los Datos en Python**"
      ],
      "metadata": {
        "id": "5APg_hby6m9O"
      }
    },
    {
      "cell_type": "code",
      "source": [
        "import pandas as pd\n",
        "import numpy as np"
      ],
      "metadata": {
        "id": "PQjaWP7Z5HWa"
      },
      "execution_count": 84,
      "outputs": []
    },
    {
      "cell_type": "markdown",
      "source": [
        "Como primer paso nos encargamos de convertir el archivo csv que disponemos a data frame.\n",
        "\n",
        "De esta forma podemos visualizar las primeras y últimas 5 filas de nuestro df.\n"
      ],
      "metadata": {
        "id": "vi5rkx_m7cpF"
      }
    },
    {
      "cell_type": "code",
      "source": [
        "df = pd.read_csv('https://raw.githubusercontent.com/PosgradoMNA/Actividades_Aprendizaje-/main/default%20of%20credit%20card%20clients.csv')\n",
        "df"
      ],
      "metadata": {
        "colab": {
          "base_uri": "https://localhost:8080/",
          "height": 487
        },
        "id": "MOoQD95b7YhP",
        "outputId": "5b73f46a-1a55-46b1-babf-ac5edf5d03f5"
      },
      "execution_count": 85,
      "outputs": [
        {
          "output_type": "execute_result",
          "data": {
            "text/plain": [
              "          ID      X1   X2   X3   X4    X5   X6   X7   X8   X9  ...      X15  \\\n",
              "0          1   20000  2.0  2.0  1.0  24.0  2.0  2.0 -1.0 -1.0  ...      0.0   \n",
              "1          2  120000  2.0  2.0  2.0  26.0 -1.0  2.0  0.0  0.0  ...   3272.0   \n",
              "2          3   90000  2.0  2.0  2.0  34.0  0.0  0.0  0.0  0.0  ...  14331.0   \n",
              "3          4   50000  2.0  2.0  1.0  37.0  0.0  0.0  0.0  0.0  ...  28314.0   \n",
              "4          5   50000  1.0  2.0  1.0  57.0 -1.0  0.0 -1.0  0.0  ...  20940.0   \n",
              "...      ...     ...  ...  ...  ...   ...  ...  ...  ...  ...  ...      ...   \n",
              "29995  29996  220000  1.0  3.0  1.0  39.0  0.0  0.0  0.0  0.0  ...  88004.0   \n",
              "29996  29997  150000  1.0  3.0  2.0  43.0 -1.0 -1.0 -1.0 -1.0  ...   8979.0   \n",
              "29997  29998   30000  1.0  2.0  2.0  37.0  4.0  3.0  2.0 -1.0  ...  20878.0   \n",
              "29998  29999   80000  1.0  3.0  1.0  41.0  1.0 -1.0  0.0  0.0  ...  52774.0   \n",
              "29999  30000   50000  1.0  2.0  1.0  46.0  0.0  0.0  0.0  0.0  ...  36535.0   \n",
              "\n",
              "           X16      X17      X18      X19      X20     X21      X22     X23  \\\n",
              "0          0.0      0.0      0.0    689.0      0.0     0.0      0.0     0.0   \n",
              "1       3455.0   3261.0      0.0   1000.0   1000.0  1000.0      0.0  2000.0   \n",
              "2      14948.0  15549.0   1518.0   1500.0   1000.0  1000.0   1000.0  5000.0   \n",
              "3      28959.0  29547.0   2000.0   2019.0   1200.0  1100.0   1069.0  1000.0   \n",
              "4      19146.0  19131.0   2000.0  36681.0  10000.0  9000.0    689.0   679.0   \n",
              "...        ...      ...      ...      ...      ...     ...      ...     ...   \n",
              "29995  31237.0  15980.0   8500.0  20000.0   5003.0  3047.0   5000.0  1000.0   \n",
              "29996   5190.0      0.0   1837.0   3526.0   8998.0   129.0      0.0     0.0   \n",
              "29997  20582.0  19357.0      0.0      0.0  22000.0  4200.0   2000.0  3100.0   \n",
              "29998  11855.0  48944.0  85900.0   3409.0   1178.0  1926.0  52964.0  1804.0   \n",
              "29999  32428.0  15313.0   2078.0   1800.0   1430.0  1000.0   1000.0  1000.0   \n",
              "\n",
              "         Y  \n",
              "0      1.0  \n",
              "1      1.0  \n",
              "2      0.0  \n",
              "3      0.0  \n",
              "4      0.0  \n",
              "...    ...  \n",
              "29995  0.0  \n",
              "29996  0.0  \n",
              "29997  1.0  \n",
              "29998  1.0  \n",
              "29999  1.0  \n",
              "\n",
              "[30000 rows x 25 columns]"
            ],
            "text/html": [
              "\n",
              "  <div id=\"df-6bafad2a-b10c-4f10-8c5c-4fd630ba449a\">\n",
              "    <div class=\"colab-df-container\">\n",
              "      <div>\n",
              "<style scoped>\n",
              "    .dataframe tbody tr th:only-of-type {\n",
              "        vertical-align: middle;\n",
              "    }\n",
              "\n",
              "    .dataframe tbody tr th {\n",
              "        vertical-align: top;\n",
              "    }\n",
              "\n",
              "    .dataframe thead th {\n",
              "        text-align: right;\n",
              "    }\n",
              "</style>\n",
              "<table border=\"1\" class=\"dataframe\">\n",
              "  <thead>\n",
              "    <tr style=\"text-align: right;\">\n",
              "      <th></th>\n",
              "      <th>ID</th>\n",
              "      <th>X1</th>\n",
              "      <th>X2</th>\n",
              "      <th>X3</th>\n",
              "      <th>X4</th>\n",
              "      <th>X5</th>\n",
              "      <th>X6</th>\n",
              "      <th>X7</th>\n",
              "      <th>X8</th>\n",
              "      <th>X9</th>\n",
              "      <th>...</th>\n",
              "      <th>X15</th>\n",
              "      <th>X16</th>\n",
              "      <th>X17</th>\n",
              "      <th>X18</th>\n",
              "      <th>X19</th>\n",
              "      <th>X20</th>\n",
              "      <th>X21</th>\n",
              "      <th>X22</th>\n",
              "      <th>X23</th>\n",
              "      <th>Y</th>\n",
              "    </tr>\n",
              "  </thead>\n",
              "  <tbody>\n",
              "    <tr>\n",
              "      <th>0</th>\n",
              "      <td>1</td>\n",
              "      <td>20000</td>\n",
              "      <td>2.0</td>\n",
              "      <td>2.0</td>\n",
              "      <td>1.0</td>\n",
              "      <td>24.0</td>\n",
              "      <td>2.0</td>\n",
              "      <td>2.0</td>\n",
              "      <td>-1.0</td>\n",
              "      <td>-1.0</td>\n",
              "      <td>...</td>\n",
              "      <td>0.0</td>\n",
              "      <td>0.0</td>\n",
              "      <td>0.0</td>\n",
              "      <td>0.0</td>\n",
              "      <td>689.0</td>\n",
              "      <td>0.0</td>\n",
              "      <td>0.0</td>\n",
              "      <td>0.0</td>\n",
              "      <td>0.0</td>\n",
              "      <td>1.0</td>\n",
              "    </tr>\n",
              "    <tr>\n",
              "      <th>1</th>\n",
              "      <td>2</td>\n",
              "      <td>120000</td>\n",
              "      <td>2.0</td>\n",
              "      <td>2.0</td>\n",
              "      <td>2.0</td>\n",
              "      <td>26.0</td>\n",
              "      <td>-1.0</td>\n",
              "      <td>2.0</td>\n",
              "      <td>0.0</td>\n",
              "      <td>0.0</td>\n",
              "      <td>...</td>\n",
              "      <td>3272.0</td>\n",
              "      <td>3455.0</td>\n",
              "      <td>3261.0</td>\n",
              "      <td>0.0</td>\n",
              "      <td>1000.0</td>\n",
              "      <td>1000.0</td>\n",
              "      <td>1000.0</td>\n",
              "      <td>0.0</td>\n",
              "      <td>2000.0</td>\n",
              "      <td>1.0</td>\n",
              "    </tr>\n",
              "    <tr>\n",
              "      <th>2</th>\n",
              "      <td>3</td>\n",
              "      <td>90000</td>\n",
              "      <td>2.0</td>\n",
              "      <td>2.0</td>\n",
              "      <td>2.0</td>\n",
              "      <td>34.0</td>\n",
              "      <td>0.0</td>\n",
              "      <td>0.0</td>\n",
              "      <td>0.0</td>\n",
              "      <td>0.0</td>\n",
              "      <td>...</td>\n",
              "      <td>14331.0</td>\n",
              "      <td>14948.0</td>\n",
              "      <td>15549.0</td>\n",
              "      <td>1518.0</td>\n",
              "      <td>1500.0</td>\n",
              "      <td>1000.0</td>\n",
              "      <td>1000.0</td>\n",
              "      <td>1000.0</td>\n",
              "      <td>5000.0</td>\n",
              "      <td>0.0</td>\n",
              "    </tr>\n",
              "    <tr>\n",
              "      <th>3</th>\n",
              "      <td>4</td>\n",
              "      <td>50000</td>\n",
              "      <td>2.0</td>\n",
              "      <td>2.0</td>\n",
              "      <td>1.0</td>\n",
              "      <td>37.0</td>\n",
              "      <td>0.0</td>\n",
              "      <td>0.0</td>\n",
              "      <td>0.0</td>\n",
              "      <td>0.0</td>\n",
              "      <td>...</td>\n",
              "      <td>28314.0</td>\n",
              "      <td>28959.0</td>\n",
              "      <td>29547.0</td>\n",
              "      <td>2000.0</td>\n",
              "      <td>2019.0</td>\n",
              "      <td>1200.0</td>\n",
              "      <td>1100.0</td>\n",
              "      <td>1069.0</td>\n",
              "      <td>1000.0</td>\n",
              "      <td>0.0</td>\n",
              "    </tr>\n",
              "    <tr>\n",
              "      <th>4</th>\n",
              "      <td>5</td>\n",
              "      <td>50000</td>\n",
              "      <td>1.0</td>\n",
              "      <td>2.0</td>\n",
              "      <td>1.0</td>\n",
              "      <td>57.0</td>\n",
              "      <td>-1.0</td>\n",
              "      <td>0.0</td>\n",
              "      <td>-1.0</td>\n",
              "      <td>0.0</td>\n",
              "      <td>...</td>\n",
              "      <td>20940.0</td>\n",
              "      <td>19146.0</td>\n",
              "      <td>19131.0</td>\n",
              "      <td>2000.0</td>\n",
              "      <td>36681.0</td>\n",
              "      <td>10000.0</td>\n",
              "      <td>9000.0</td>\n",
              "      <td>689.0</td>\n",
              "      <td>679.0</td>\n",
              "      <td>0.0</td>\n",
              "    </tr>\n",
              "    <tr>\n",
              "      <th>...</th>\n",
              "      <td>...</td>\n",
              "      <td>...</td>\n",
              "      <td>...</td>\n",
              "      <td>...</td>\n",
              "      <td>...</td>\n",
              "      <td>...</td>\n",
              "      <td>...</td>\n",
              "      <td>...</td>\n",
              "      <td>...</td>\n",
              "      <td>...</td>\n",
              "      <td>...</td>\n",
              "      <td>...</td>\n",
              "      <td>...</td>\n",
              "      <td>...</td>\n",
              "      <td>...</td>\n",
              "      <td>...</td>\n",
              "      <td>...</td>\n",
              "      <td>...</td>\n",
              "      <td>...</td>\n",
              "      <td>...</td>\n",
              "      <td>...</td>\n",
              "    </tr>\n",
              "    <tr>\n",
              "      <th>29995</th>\n",
              "      <td>29996</td>\n",
              "      <td>220000</td>\n",
              "      <td>1.0</td>\n",
              "      <td>3.0</td>\n",
              "      <td>1.0</td>\n",
              "      <td>39.0</td>\n",
              "      <td>0.0</td>\n",
              "      <td>0.0</td>\n",
              "      <td>0.0</td>\n",
              "      <td>0.0</td>\n",
              "      <td>...</td>\n",
              "      <td>88004.0</td>\n",
              "      <td>31237.0</td>\n",
              "      <td>15980.0</td>\n",
              "      <td>8500.0</td>\n",
              "      <td>20000.0</td>\n",
              "      <td>5003.0</td>\n",
              "      <td>3047.0</td>\n",
              "      <td>5000.0</td>\n",
              "      <td>1000.0</td>\n",
              "      <td>0.0</td>\n",
              "    </tr>\n",
              "    <tr>\n",
              "      <th>29996</th>\n",
              "      <td>29997</td>\n",
              "      <td>150000</td>\n",
              "      <td>1.0</td>\n",
              "      <td>3.0</td>\n",
              "      <td>2.0</td>\n",
              "      <td>43.0</td>\n",
              "      <td>-1.0</td>\n",
              "      <td>-1.0</td>\n",
              "      <td>-1.0</td>\n",
              "      <td>-1.0</td>\n",
              "      <td>...</td>\n",
              "      <td>8979.0</td>\n",
              "      <td>5190.0</td>\n",
              "      <td>0.0</td>\n",
              "      <td>1837.0</td>\n",
              "      <td>3526.0</td>\n",
              "      <td>8998.0</td>\n",
              "      <td>129.0</td>\n",
              "      <td>0.0</td>\n",
              "      <td>0.0</td>\n",
              "      <td>0.0</td>\n",
              "    </tr>\n",
              "    <tr>\n",
              "      <th>29997</th>\n",
              "      <td>29998</td>\n",
              "      <td>30000</td>\n",
              "      <td>1.0</td>\n",
              "      <td>2.0</td>\n",
              "      <td>2.0</td>\n",
              "      <td>37.0</td>\n",
              "      <td>4.0</td>\n",
              "      <td>3.0</td>\n",
              "      <td>2.0</td>\n",
              "      <td>-1.0</td>\n",
              "      <td>...</td>\n",
              "      <td>20878.0</td>\n",
              "      <td>20582.0</td>\n",
              "      <td>19357.0</td>\n",
              "      <td>0.0</td>\n",
              "      <td>0.0</td>\n",
              "      <td>22000.0</td>\n",
              "      <td>4200.0</td>\n",
              "      <td>2000.0</td>\n",
              "      <td>3100.0</td>\n",
              "      <td>1.0</td>\n",
              "    </tr>\n",
              "    <tr>\n",
              "      <th>29998</th>\n",
              "      <td>29999</td>\n",
              "      <td>80000</td>\n",
              "      <td>1.0</td>\n",
              "      <td>3.0</td>\n",
              "      <td>1.0</td>\n",
              "      <td>41.0</td>\n",
              "      <td>1.0</td>\n",
              "      <td>-1.0</td>\n",
              "      <td>0.0</td>\n",
              "      <td>0.0</td>\n",
              "      <td>...</td>\n",
              "      <td>52774.0</td>\n",
              "      <td>11855.0</td>\n",
              "      <td>48944.0</td>\n",
              "      <td>85900.0</td>\n",
              "      <td>3409.0</td>\n",
              "      <td>1178.0</td>\n",
              "      <td>1926.0</td>\n",
              "      <td>52964.0</td>\n",
              "      <td>1804.0</td>\n",
              "      <td>1.0</td>\n",
              "    </tr>\n",
              "    <tr>\n",
              "      <th>29999</th>\n",
              "      <td>30000</td>\n",
              "      <td>50000</td>\n",
              "      <td>1.0</td>\n",
              "      <td>2.0</td>\n",
              "      <td>1.0</td>\n",
              "      <td>46.0</td>\n",
              "      <td>0.0</td>\n",
              "      <td>0.0</td>\n",
              "      <td>0.0</td>\n",
              "      <td>0.0</td>\n",
              "      <td>...</td>\n",
              "      <td>36535.0</td>\n",
              "      <td>32428.0</td>\n",
              "      <td>15313.0</td>\n",
              "      <td>2078.0</td>\n",
              "      <td>1800.0</td>\n",
              "      <td>1430.0</td>\n",
              "      <td>1000.0</td>\n",
              "      <td>1000.0</td>\n",
              "      <td>1000.0</td>\n",
              "      <td>1.0</td>\n",
              "    </tr>\n",
              "  </tbody>\n",
              "</table>\n",
              "<p>30000 rows × 25 columns</p>\n",
              "</div>\n",
              "      <button class=\"colab-df-convert\" onclick=\"convertToInteractive('df-6bafad2a-b10c-4f10-8c5c-4fd630ba449a')\"\n",
              "              title=\"Convert this dataframe to an interactive table.\"\n",
              "              style=\"display:none;\">\n",
              "        \n",
              "  <svg xmlns=\"http://www.w3.org/2000/svg\" height=\"24px\"viewBox=\"0 0 24 24\"\n",
              "       width=\"24px\">\n",
              "    <path d=\"M0 0h24v24H0V0z\" fill=\"none\"/>\n",
              "    <path d=\"M18.56 5.44l.94 2.06.94-2.06 2.06-.94-2.06-.94-.94-2.06-.94 2.06-2.06.94zm-11 1L8.5 8.5l.94-2.06 2.06-.94-2.06-.94L8.5 2.5l-.94 2.06-2.06.94zm10 10l.94 2.06.94-2.06 2.06-.94-2.06-.94-.94-2.06-.94 2.06-2.06.94z\"/><path d=\"M17.41 7.96l-1.37-1.37c-.4-.4-.92-.59-1.43-.59-.52 0-1.04.2-1.43.59L10.3 9.45l-7.72 7.72c-.78.78-.78 2.05 0 2.83L4 21.41c.39.39.9.59 1.41.59.51 0 1.02-.2 1.41-.59l7.78-7.78 2.81-2.81c.8-.78.8-2.07 0-2.86zM5.41 20L4 18.59l7.72-7.72 1.47 1.35L5.41 20z\"/>\n",
              "  </svg>\n",
              "      </button>\n",
              "      \n",
              "  <style>\n",
              "    .colab-df-container {\n",
              "      display:flex;\n",
              "      flex-wrap:wrap;\n",
              "      gap: 12px;\n",
              "    }\n",
              "\n",
              "    .colab-df-convert {\n",
              "      background-color: #E8F0FE;\n",
              "      border: none;\n",
              "      border-radius: 50%;\n",
              "      cursor: pointer;\n",
              "      display: none;\n",
              "      fill: #1967D2;\n",
              "      height: 32px;\n",
              "      padding: 0 0 0 0;\n",
              "      width: 32px;\n",
              "    }\n",
              "\n",
              "    .colab-df-convert:hover {\n",
              "      background-color: #E2EBFA;\n",
              "      box-shadow: 0px 1px 2px rgba(60, 64, 67, 0.3), 0px 1px 3px 1px rgba(60, 64, 67, 0.15);\n",
              "      fill: #174EA6;\n",
              "    }\n",
              "\n",
              "    [theme=dark] .colab-df-convert {\n",
              "      background-color: #3B4455;\n",
              "      fill: #D2E3FC;\n",
              "    }\n",
              "\n",
              "    [theme=dark] .colab-df-convert:hover {\n",
              "      background-color: #434B5C;\n",
              "      box-shadow: 0px 1px 3px 1px rgba(0, 0, 0, 0.15);\n",
              "      filter: drop-shadow(0px 1px 2px rgba(0, 0, 0, 0.3));\n",
              "      fill: #FFFFFF;\n",
              "    }\n",
              "  </style>\n",
              "\n",
              "      <script>\n",
              "        const buttonEl =\n",
              "          document.querySelector('#df-6bafad2a-b10c-4f10-8c5c-4fd630ba449a button.colab-df-convert');\n",
              "        buttonEl.style.display =\n",
              "          google.colab.kernel.accessAllowed ? 'block' : 'none';\n",
              "\n",
              "        async function convertToInteractive(key) {\n",
              "          const element = document.querySelector('#df-6bafad2a-b10c-4f10-8c5c-4fd630ba449a');\n",
              "          const dataTable =\n",
              "            await google.colab.kernel.invokeFunction('convertToInteractive',\n",
              "                                                     [key], {});\n",
              "          if (!dataTable) return;\n",
              "\n",
              "          const docLinkHtml = 'Like what you see? Visit the ' +\n",
              "            '<a target=\"_blank\" href=https://colab.research.google.com/notebooks/data_table.ipynb>data table notebook</a>'\n",
              "            + ' to learn more about interactive tables.';\n",
              "          element.innerHTML = '';\n",
              "          dataTable['output_type'] = 'display_data';\n",
              "          await google.colab.output.renderOutput(dataTable, element);\n",
              "          const docLink = document.createElement('div');\n",
              "          docLink.innerHTML = docLinkHtml;\n",
              "          element.appendChild(docLink);\n",
              "        }\n",
              "      </script>\n",
              "    </div>\n",
              "  </div>\n",
              "  "
            ]
          },
          "metadata": {},
          "execution_count": 85
        }
      ]
    },
    {
      "cell_type": "markdown",
      "source": [
        "La información que expone el df cuenta con 30 mil filas y 25 columnas, procedemos a validar registros nulos o faltantes."
      ],
      "metadata": {
        "id": "rDQqB3z78HVp"
      }
    },
    {
      "cell_type": "code",
      "source": [
        "df.info()"
      ],
      "metadata": {
        "colab": {
          "base_uri": "https://localhost:8080/"
        },
        "id": "1eE1kHX97uSl",
        "outputId": "bce21b1a-d558-4c8c-b3cb-8eff71e5844e"
      },
      "execution_count": 86,
      "outputs": [
        {
          "output_type": "stream",
          "name": "stdout",
          "text": [
            "<class 'pandas.core.frame.DataFrame'>\n",
            "RangeIndex: 30000 entries, 0 to 29999\n",
            "Data columns (total 25 columns):\n",
            " #   Column  Non-Null Count  Dtype  \n",
            "---  ------  --------------  -----  \n",
            " 0   ID      30000 non-null  int64  \n",
            " 1   X1      30000 non-null  int64  \n",
            " 2   X2      29999 non-null  float64\n",
            " 3   X3      29998 non-null  float64\n",
            " 4   X4      29998 non-null  float64\n",
            " 5   X5      29995 non-null  float64\n",
            " 6   X6      29997 non-null  float64\n",
            " 7   X7      29995 non-null  float64\n",
            " 8   X8      29993 non-null  float64\n",
            " 9   X9      29991 non-null  float64\n",
            " 10  X10     29984 non-null  float64\n",
            " 11  X11     29986 non-null  float64\n",
            " 12  X12     29989 non-null  float64\n",
            " 13  X13     29989 non-null  float64\n",
            " 14  X14     29987 non-null  float64\n",
            " 15  X15     29985 non-null  float64\n",
            " 16  X16     29983 non-null  float64\n",
            " 17  X17     29990 non-null  float64\n",
            " 18  X18     29992 non-null  float64\n",
            " 19  X19     29991 non-null  float64\n",
            " 20  X20     29992 non-null  float64\n",
            " 21  X21     29989 non-null  float64\n",
            " 22  X22     29989 non-null  float64\n",
            " 23  X23     29995 non-null  float64\n",
            " 24  Y       29997 non-null  float64\n",
            "dtypes: float64(23), int64(2)\n",
            "memory usage: 5.7 MB\n"
          ]
        }
      ]
    },
    {
      "cell_type": "code",
      "source": [
        "variable = ['ID',\n",
        "              'Amount of the given credit (NT dollar): it includes both the individual consumer credit and his/her family (supplementary) credit. ',\n",
        "              'Gender (1 = male; 2 = female)',\n",
        "              'Education (1 = graduate school; 2 = university; 3 = high school; 4 = others)',\n",
        "              'Marital status (1 = married; 2 = single; 3 = others)',\n",
        "              'Age (year)',\n",
        "              'the repayment status in September, 2005, The measurement scale for the repayment status is: -1 = pay duly; 1 = payment delay for one month; 2 = payment delay for two months; . . .; 8 = payment delay for eight months; 9 = payment delay for nine months and above',\n",
        "              'the repayment status in August, 2005',\n",
        "              'the repayment status in July, 2005',\n",
        "              'the repayment status in June, 2005',\n",
        "              'the repayment status in May, 2005',\n",
        "              'the repayment status in April, 2005',\n",
        "              'amount of bill statement in September, 2005',\n",
        "              'amount of bill statement in August, 2005',\n",
        "              'amount of bill statement in July, 2005',\n",
        "              'amount of bill statement in June, 2005',\n",
        "              'amount of bill statement in May, 2005',\n",
        "              'amount of bill statement in April, 2005',\n",
        "              'amount paid in September, 2005',\n",
        "              'amount paid in August, 2005',\n",
        "              'amount paid in July, 2005',\n",
        "              'amount paid in June, 2005',\n",
        "              'amount paid in May, 2005',\n",
        "              'amount paid in April, 2005',\n",
        "              'the real probability of default as the response variable']\n",
        "variable_name = {}\n",
        "n = 0\n",
        "for col in df.columns:\n",
        "  variable_name[col] = variable[n]\n",
        "  n = n + 1\n",
        "variable_name"
      ],
      "metadata": {
        "colab": {
          "base_uri": "https://localhost:8080/"
        },
        "id": "WPBo2bitBfa2",
        "outputId": "2388c550-b1a4-4bfd-a6f2-a8ee79f332b2"
      },
      "execution_count": 87,
      "outputs": [
        {
          "output_type": "execute_result",
          "data": {
            "text/plain": [
              "{'ID': 'ID',\n",
              " 'X1': 'Amount of the given credit (NT dollar): it includes both the individual consumer credit and his/her family (supplementary) credit. ',\n",
              " 'X2': 'Gender (1 = male; 2 = female)',\n",
              " 'X3': 'Education (1 = graduate school; 2 = university; 3 = high school; 4 = others)',\n",
              " 'X4': 'Marital status (1 = married; 2 = single; 3 = others)',\n",
              " 'X5': 'Age (year)',\n",
              " 'X6': 'the repayment status in September, 2005, The measurement scale for the repayment status is: -1 = pay duly; 1 = payment delay for one month; 2 = payment delay for two months; . . .; 8 = payment delay for eight months; 9 = payment delay for nine months and above',\n",
              " 'X7': 'the repayment status in August, 2005',\n",
              " 'X8': 'the repayment status in July, 2005',\n",
              " 'X9': 'the repayment status in June, 2005',\n",
              " 'X10': 'the repayment status in May, 2005',\n",
              " 'X11': 'the repayment status in April, 2005',\n",
              " 'X12': 'amount of bill statement in September, 2005',\n",
              " 'X13': 'amount of bill statement in August, 2005',\n",
              " 'X14': 'amount of bill statement in July, 2005',\n",
              " 'X15': 'amount of bill statement in June, 2005',\n",
              " 'X16': 'amount of bill statement in May, 2005',\n",
              " 'X17': 'amount of bill statement in April, 2005',\n",
              " 'X18': 'amount paid in September, 2005',\n",
              " 'X19': 'amount paid in August, 2005',\n",
              " 'X20': 'amount paid in July, 2005',\n",
              " 'X21': 'amount paid in June, 2005',\n",
              " 'X22': 'amount paid in May, 2005',\n",
              " 'X23': 'amount paid in April, 2005',\n",
              " 'Y': 'the real probability of default as the response variable'}"
            ]
          },
          "metadata": {},
          "execution_count": 87
        }
      ]
    },
    {
      "cell_type": "markdown",
      "source": [
        "Mediante este diccionario podemos verificar a que corresponde el significado de cada variable del df. \n",
        "\n",
        "A continuación procedemos a validar la unicidad de cada ID, con el objetivo de verificar que no tengamos registros duplicados de un mismo cliente."
      ],
      "metadata": {
        "id": "qZQRjUczDlFh"
      }
    },
    {
      "cell_type": "code",
      "source": [
        "if df['ID'].count() == df[\"ID\"].unique().size:\n",
        "  print (\"Tenemos los siguientes registros ID únicos: \", df[\"ID\"].unique().size)\n",
        "else: \n",
        "  print (\"Existen registros algunos repetidos y solo tenemos registros ID únicos: \", df[\"ID\"].unique().size)"
      ],
      "metadata": {
        "colab": {
          "base_uri": "https://localhost:8080/"
        },
        "id": "10iCwwYKDk05",
        "outputId": "b38dc907-9486-413a-ec6d-cc4862678ac9"
      },
      "execution_count": 88,
      "outputs": [
        {
          "output_type": "stream",
          "name": "stdout",
          "text": [
            "Tenemos los siguientes registros ID únicos:  30000\n"
          ]
        }
      ]
    },
    {
      "cell_type": "markdown",
      "source": [
        "Seguidamente vamos a corroborar que los valores de los montos de crédito otorgados sean coherentes con el sentido del contexto en el cual estamos, es decir no deberíamos encontrar valores negativos."
      ],
      "metadata": {
        "id": "8BjJc-ymEiI2"
      }
    },
    {
      "cell_type": "code",
      "source": [
        "df_new = df.copy()\n",
        "(df_new['X1'].values < 0).sum()"
      ],
      "metadata": {
        "colab": {
          "base_uri": "https://localhost:8080/"
        },
        "id": "NT7Cec4dDVAB",
        "outputId": "3bb44c76-58f0-4d9d-9494-b3bd28d19b88"
      },
      "execution_count": 89,
      "outputs": [
        {
          "output_type": "execute_result",
          "data": {
            "text/plain": [
              "0"
            ]
          },
          "metadata": {},
          "execution_count": 89
        }
      ]
    },
    {
      "cell_type": "markdown",
      "source": [
        "Con esta validación verificamos cuales variables cuentan con valores nulos."
      ],
      "metadata": {
        "id": "2jQTKWVZnkS8"
      }
    },
    {
      "cell_type": "code",
      "source": [
        "df.isnull().any()"
      ],
      "metadata": {
        "colab": {
          "base_uri": "https://localhost:8080/"
        },
        "id": "45WN_lN4nMSQ",
        "outputId": "38b1f92a-01eb-499b-bc40-3fdeff68f6d3"
      },
      "execution_count": 90,
      "outputs": [
        {
          "output_type": "execute_result",
          "data": {
            "text/plain": [
              "ID     False\n",
              "X1     False\n",
              "X2      True\n",
              "X3      True\n",
              "X4      True\n",
              "X5      True\n",
              "X6      True\n",
              "X7      True\n",
              "X8      True\n",
              "X9      True\n",
              "X10     True\n",
              "X11     True\n",
              "X12     True\n",
              "X13     True\n",
              "X14     True\n",
              "X15     True\n",
              "X16     True\n",
              "X17     True\n",
              "X18     True\n",
              "X19     True\n",
              "X20     True\n",
              "X21     True\n",
              "X22     True\n",
              "X23     True\n",
              "Y       True\n",
              "dtype: bool"
            ]
          },
          "metadata": {},
          "execution_count": 90
        }
      ]
    },
    {
      "cell_type": "code",
      "source": [
        "is_NaN = df.isnull()\n",
        "row_has_NaN = is_NaN.any(axis=1)\n",
        "rows_with_NaN = df[row_has_NaN]\n",
        "\n",
        "print(rows_with_NaN)"
      ],
      "metadata": {
        "colab": {
          "base_uri": "https://localhost:8080/"
        },
        "id": "89MnWlsWhn8f",
        "outputId": "268aec6d-2ca6-42db-e178-a153b8263ba8"
      },
      "execution_count": 91,
      "outputs": [
        {
          "output_type": "stream",
          "name": "stdout",
          "text": [
            "          ID      X1   X2   X3   X4    X5   X6   X7   X8   X9  ...       X15  \\\n",
            "18        19  360000  2.0  1.0  1.0  49.0  1.0 -2.0 -2.0 -2.0  ...       NaN   \n",
            "38        39   50000  1.0  1.0  2.0  25.0  1.0 -1.0 -1.0 -2.0  ...       0.0   \n",
            "49        50   20000  1.0  1.0  2.0  24.0  0.0  0.0  0.0  0.0  ...   19865.0   \n",
            "64        65  130000  2.0  2.0  1.0  51.0 -1.0 -1.0 -2.0 -2.0  ...       0.0   \n",
            "160      161   30000  1.0  1.0  2.0  41.0  2.0  2.0  2.0  NaN  ...   28168.0   \n",
            "173      174   50000  2.0  1.0  2.0  24.0  1.0 -2.0 -2.0 -2.0  ...   -2898.0   \n",
            "175      176  130000  1.0  3.0  1.0  56.0  1.0  2.0  2.0  2.0  ...   68557.0   \n",
            "182      183  500000  2.0  1.0  1.0   NaN  0.0  0.0  0.0  0.0  ...  122967.0   \n",
            "219      220  310000  2.0  1.0  2.0   NaN -1.0 -1.0 -1.0 -1.0  ...       0.0   \n",
            "233      234  190000  1.0  2.0  2.0  34.0  2.0  0.0  0.0  0.0  ...  142323.0   \n",
            "239      240  140000  2.0  2.0  3.0   NaN  0.0  0.0  0.0  0.0  ...   19068.0   \n",
            "240      241   60000  2.0  1.0  2.0  28.0  1.0  2.0  2.0 -2.0  ...       0.0   \n",
            "245      246   20000  2.0  2.0  2.0  40.0  0.0  0.0  0.0  0.0  ...   19575.0   \n",
            "246      247  250000  2.0  2.0  1.0  75.0  0.0 -1.0 -1.0 -1.0  ...    1010.0   \n",
            "247      248  100000  2.0  2.0  2.0  27.0  0.0  0.0  0.0  0.0  ...   30337.0   \n",
            "6227    6228   30000  1.0  NaN  NaN   NaN  NaN  NaN  NaN  NaN  ...       NaN   \n",
            "6232    6233   60000  2.0  2.0  2.0  29.0  2.0  2.0  2.0  0.0  ...       NaN   \n",
            "6268    6269  120000  1.0  2.0  2.0  29.0  1.0  2.0  0.0  0.0  ...   91380.0   \n",
            "6269    6270  400000  2.0  1.0  2.0  27.0  1.0 -2.0 -1.0  0.0  ...   12640.0   \n",
            "6270    6271   50000  2.0  1.0  1.0  55.0  0.0  0.0  0.0  0.0  ...   19431.0   \n",
            "6276    6277   30000  1.0  3.0  1.0  32.0  0.0  0.0  0.0  0.0  ...       NaN   \n",
            "6277    6278  110000  2.0  1.0  2.0  32.0  1.0  2.0  0.0  0.0  ...       NaN   \n",
            "6278    6279   20000  2.0  3.0  2.0  54.0  0.0  0.0  2.0  2.0  ...       NaN   \n",
            "6382    6383   80000  2.0  2.0  1.0  30.0  1.0  2.0  0.0  0.0  ...   75374.0   \n",
            "6383    6384   90000  1.0  2.0  2.0  29.0  0.0  0.0  0.0  0.0  ...   69362.0   \n",
            "6384    6385   20000  2.0  2.0  2.0  22.0  0.0  0.0  0.0  0.0  ...   20055.0   \n",
            "17989  17990   80000  1.0  2.0  1.0  46.0  0.0  0.0  NaN  0.0  ...   64237.0   \n",
            "17990  17991   50000  1.0  3.0  2.0  41.0  0.0  0.0  0.0  0.0  ...   50269.0   \n",
            "18003  18004   70000  1.0  2.0  2.0  33.0  1.0  2.0  NaN  7.0  ...   38922.0   \n",
            "23943  23944   20000  1.0  2.0  2.0  24.0  0.0  0.0  2.0  3.0  ...   17755.0   \n",
            "23990  23991   60000  1.0  2.0  2.0  26.0  0.0  0.0  0.0  NaN  ...   58938.0   \n",
            "23991  23992   50000  1.0  3.0  2.0  25.0  0.0  0.0  0.0  NaN  ...   49485.0   \n",
            "23992  23993   50000  1.0  2.0  2.0  24.0  0.0  0.0  0.0  NaN  ...   41286.0   \n",
            "24123  24124   50000  1.0  1.0  2.0  29.0  NaN  NaN  NaN  NaN  ...       NaN   \n",
            "24365  24366  130000  NaN  NaN  NaN   NaN  NaN  NaN  NaN  NaN  ...       NaN   \n",
            "29733  29734  300000  1.0  2.0  1.0  37.0 -2.0 -2.0 -1.0 -1.0  ...       NaN   \n",
            "29734  29735  500000  1.0  2.0  1.0  49.0 -1.0 -1.0  2.0 -1.0  ...       NaN   \n",
            "29735  29736   50000  1.0  3.0  1.0  40.0  2.0  0.0  0.0  0.0  ...       NaN   \n",
            "29824  29825   40000  1.0  1.0  1.0  47.0  2.0  2.0  2.0  2.0  ...       NaN   \n",
            "29825  29826   50000  1.0  2.0  1.0  41.0  0.0  0.0  0.0  0.0  ...       NaN   \n",
            "29832  29833   20000  1.0  2.0  2.0  30.0  0.0  NaN  NaN  NaN  ...       NaN   \n",
            "29833  29834   20000  1.0  2.0  2.0  31.0 -1.0  NaN  NaN  NaN  ...       NaN   \n",
            "\n",
            "            X16       X17      X18      X19      X20      X21      X22  \\\n",
            "18          NaN       NaN      0.0      0.0      0.0      0.0      0.0   \n",
            "38          0.0       NaN    780.0      0.0      0.0      0.0      0.0   \n",
            "49      20480.0   20063.0   1318.0   1315.0    704.0    928.0    912.0   \n",
            "64       2353.0       0.0      0.0      NaN      0.0   2353.0      0.0   \n",
            "160     27579.0   28321.0   3500.0      0.0   2200.0      NaN   1200.0   \n",
            "173     -3272.0   -3272.0      0.0      0.0      0.0      NaN      0.0   \n",
            "175         NaN   71345.0   3000.0   3000.0   3000.0   5500.0      0.0   \n",
            "182    108834.0   70064.0  70010.0  30357.0  30000.0  20000.0  52183.0   \n",
            "219         0.0       0.0   4542.0    126.0      0.0      0.0      0.0   \n",
            "233    140120.0  150052.0   5000.0   5000.0  10000.0      0.0  12118.0   \n",
            "239     16409.0   16383.0   3000.0   2000.0   2198.0   1000.0   3000.0   \n",
            "240         NaN    2285.0      0.0      0.0      0.0      0.0   2285.0   \n",
            "245         0.0       0.0   1601.0   2203.0   2114.0      NaN      NaN   \n",
            "246      5572.0     794.0   1631.0   1536.0   1010.0   5572.0      NaN   \n",
            "247     30997.0   32904.0   1788.0   1799.0   1100.0   1150.0   2423.0   \n",
            "6227        NaN   21120.0   1586.0   1365.0   1663.0   5106.0   1050.0   \n",
            "6232        NaN       NaN      NaN      NaN      NaN      NaN      NaN   \n",
            "6268    93263.0   95079.0      0.0   3200.0   6800.0   3500.0   3500.0   \n",
            "6269    14805.0     238.0    140.0  12527.0    253.0   2305.0    238.0   \n",
            "6270    19837.0   20232.0   1775.0   1815.0    695.0    719.0    724.0   \n",
            "6276        NaN    1400.0   3000.0   1431.0    483.0      0.0    700.0   \n",
            "6277        NaN   25453.0   1210.0   2056.0   1200.0   2300.0      0.0   \n",
            "6278        NaN    9116.0   2000.0   1000.0   1000.0      0.0    500.0   \n",
            "6382    77158.0   78710.0      0.0   3299.0   2699.0   3000.0   2987.0   \n",
            "6383    70537.0   56775.0   4400.0   4111.0   2100.0   2200.0   2510.0   \n",
            "6384    19606.0   19925.0   1298.0   1909.0   1666.0   5000.0    703.0   \n",
            "17989   47890.0   48036.0   3542.0   3500.0   2500.0   2000.0   2500.0   \n",
            "17990   29182.0   29096.0   4200.0   2200.0   3300.0   1200.0   1100.0   \n",
            "18003   38318.0   38133.0  12000.0      0.0   2500.0      0.0   1000.0   \n",
            "23943   17967.0   17538.0   3200.0   2200.0      0.0    800.0      NaN   \n",
            "23990   30101.0   29735.0   2113.0   2500.0   3000.0   2500.0   1500.0   \n",
            "23991   49083.0   45187.0   2100.0   2200.0   3500.0   2000.0      0.0   \n",
            "23992   16764.0   16960.0   2150.0   2352.0   1239.0    717.0    585.0   \n",
            "24123       NaN       NaN      NaN      NaN      NaN      NaN      NaN   \n",
            "24365       NaN       NaN      NaN      NaN      NaN      NaN      NaN   \n",
            "29733       NaN       NaN      NaN      NaN      NaN      NaN      NaN   \n",
            "29734       NaN       NaN      NaN      NaN      NaN      NaN      NaN   \n",
            "29735       NaN       NaN      NaN      NaN      NaN      NaN      NaN   \n",
            "29824       NaN       NaN      NaN      NaN      NaN      NaN      NaN   \n",
            "29825       NaN       NaN      NaN      NaN      NaN      NaN      NaN   \n",
            "29832       NaN   20090.0   1279.0   3000.0   6668.0    468.0    507.0   \n",
            "29833       NaN   19103.0    390.0    780.0      0.0    806.0  19103.0   \n",
            "\n",
            "           X23    Y  \n",
            "18         0.0  0.0  \n",
            "38         0.0  1.0  \n",
            "49      1069.0  0.0  \n",
            "64         0.0  0.0  \n",
            "160     1250.0  0.0  \n",
            "173        0.0  1.0  \n",
            "175        0.0  1.0  \n",
            "182    20000.0  0.0  \n",
            "219        0.0  0.0  \n",
            "233     2769.0  1.0  \n",
            "239     2399.0  1.0  \n",
            "240        0.0  0.0  \n",
            "245        0.0  0.0  \n",
            "246        NaN  0.0  \n",
            "247        NaN  0.0  \n",
            "6227       0.0  0.0  \n",
            "6232       NaN  NaN  \n",
            "6268       0.0  1.0  \n",
            "6269     238.0  0.0  \n",
            "6270     750.0  0.0  \n",
            "6276       0.0  0.0  \n",
            "6277    1000.0  1.0  \n",
            "6278     500.0  0.0  \n",
            "6382    3100.0  0.0  \n",
            "6383    2000.0  0.0  \n",
            "6384     775.0  0.0  \n",
            "17989   2000.0  0.0  \n",
            "17990   1100.0  0.0  \n",
            "18003   1500.0  0.0  \n",
            "23943   1401.0  0.0  \n",
            "23990   1100.0  0.0  \n",
            "23991   5151.0  0.0  \n",
            "23992    589.0  0.0  \n",
            "24123    360.0  0.0  \n",
            "24365    390.0  0.0  \n",
            "29733   3081.0  0.0  \n",
            "29734    237.0  1.0  \n",
            "29735    406.0  1.0  \n",
            "29824      NaN  NaN  \n",
            "29825      NaN  NaN  \n",
            "29832   5582.0  0.0  \n",
            "29833   1000.0  1.0  \n",
            "\n",
            "[42 rows x 25 columns]\n"
          ]
        }
      ]
    },
    {
      "cell_type": "markdown",
      "source": [
        "Con este resultado podemos identificar que 42 filas cuentan con valores nulos de las 30000 en total.\n",
        "\n",
        "Procedemos a generar un dataset nuevo sin estos valores nulos.\n"
      ],
      "metadata": {
        "id": "5L1hRluXtDO7"
      }
    },
    {
      "cell_type": "code",
      "source": [
        "df_new = df.copy()\n",
        "df_new.dropna(inplace = True)"
      ],
      "metadata": {
        "id": "gPXxIddCnMPr"
      },
      "execution_count": 92,
      "outputs": []
    },
    {
      "cell_type": "markdown",
      "source": [
        "Vamos a validar si los valores nulos se eliminaron correctamente."
      ],
      "metadata": {
        "id": "J57kRLuaquAT"
      }
    },
    {
      "cell_type": "code",
      "source": [
        "df_new.isnull().sum()"
      ],
      "metadata": {
        "colab": {
          "base_uri": "https://localhost:8080/"
        },
        "id": "q6eaEIU7nMNG",
        "outputId": "228c7dd9-05c1-4781-c2e1-8fe096f51173"
      },
      "execution_count": 93,
      "outputs": [
        {
          "output_type": "execute_result",
          "data": {
            "text/plain": [
              "ID     0\n",
              "X1     0\n",
              "X2     0\n",
              "X3     0\n",
              "X4     0\n",
              "X5     0\n",
              "X6     0\n",
              "X7     0\n",
              "X8     0\n",
              "X9     0\n",
              "X10    0\n",
              "X11    0\n",
              "X12    0\n",
              "X13    0\n",
              "X14    0\n",
              "X15    0\n",
              "X16    0\n",
              "X17    0\n",
              "X18    0\n",
              "X19    0\n",
              "X20    0\n",
              "X21    0\n",
              "X22    0\n",
              "X23    0\n",
              "Y      0\n",
              "dtype: int64"
            ]
          },
          "metadata": {},
          "execution_count": 93
        }
      ]
    },
    {
      "cell_type": "code",
      "source": [
        "largo_df=len(df)\n",
        "largo_df_new=len(df_new)\n",
        "print(\"Número de filas del dataset original:\",largo_df)\n",
        "print(\"Número de filas del dataset con registros nulos:\",largo_df_new)"
      ],
      "metadata": {
        "colab": {
          "base_uri": "https://localhost:8080/"
        },
        "id": "EIhDdudonMKi",
        "outputId": "7699acf8-c6c2-4e97-9468-15d4e753e38e"
      },
      "execution_count": 94,
      "outputs": [
        {
          "output_type": "stream",
          "name": "stdout",
          "text": [
            "Número de filas del dataset original: 30000\n",
            "Número de filas del dataset con registros nulos: 29958\n"
          ]
        }
      ]
    },
    {
      "cell_type": "markdown",
      "source": [
        "Procedemos a verificar que porcentaje de los datos fueron disminuidos en el nuevo dataset, para establecer la proporción de diferencia."
      ],
      "metadata": {
        "id": "WtJeddurrhQO"
      }
    },
    {
      "cell_type": "code",
      "source": [
        "print(100-((largo_df_new*100)/largo_df))"
      ],
      "metadata": {
        "colab": {
          "base_uri": "https://localhost:8080/"
        },
        "id": "jPIVf-efnMH9",
        "outputId": "cf9537bc-d989-4f21-aa0c-5c4aaa340e50"
      },
      "execution_count": 95,
      "outputs": [
        {
          "output_type": "stream",
          "name": "stdout",
          "text": [
            "0.14000000000000057\n"
          ]
        }
      ]
    },
    {
      "cell_type": "markdown",
      "source": [
        "De acuerdo a este resultado puedo identificar que los registros que se eliminarían al omitir los datos nulos, corresponden a un 0.14% del total del dataset. Al eliminar este 0.14% podemos asegurar que estadisticamente nuestro dataset no se verá afectado.\n",
        "\n"
      ],
      "metadata": {
        "id": "grEk80EuvyBD"
      }
    },
    {
      "cell_type": "code",
      "source": [
        "df_new.describe()"
      ],
      "metadata": {
        "colab": {
          "base_uri": "https://localhost:8080/",
          "height": 393
        },
        "id": "VtGcIJ7xnMFI",
        "outputId": "f68c3a0c-0fb3-4111-f80a-53cb98948350"
      },
      "execution_count": 96,
      "outputs": [
        {
          "output_type": "execute_result",
          "data": {
            "text/plain": [
              "                 ID              X1            X2            X3            X4  \\\n",
              "count  29958.000000    29958.000000  29958.000000  29958.000000  29958.000000   \n",
              "mean   15005.550504   167555.900928      1.604012      1.853094      1.551739   \n",
              "std     8654.547473   129737.299088      0.489070      0.790471      0.521952   \n",
              "min        1.000000    10000.000000      1.000000      0.000000      0.000000   \n",
              "25%     7516.250000    50000.000000      1.000000      1.000000      1.000000   \n",
              "50%    15005.500000   140000.000000      2.000000      2.000000      2.000000   \n",
              "75%    22497.750000   240000.000000      2.000000      2.000000      2.000000   \n",
              "max    30000.000000  1000000.000000      2.000000      6.000000      3.000000   \n",
              "\n",
              "                 X5            X6            X7            X8            X9  \\\n",
              "count  29958.000000  29958.000000  29958.000000  29958.000000  29958.000000   \n",
              "mean      35.483443     -0.017124     -0.134021     -0.166767     -0.221110   \n",
              "std        9.214319      1.123989      1.197171      1.196026      1.168419   \n",
              "min       21.000000     -2.000000     -2.000000     -2.000000     -2.000000   \n",
              "25%       28.000000     -1.000000     -1.000000     -1.000000     -1.000000   \n",
              "50%       34.000000      0.000000      0.000000      0.000000      0.000000   \n",
              "75%       41.000000      0.000000      0.000000      0.000000      0.000000   \n",
              "max       79.000000      8.000000      8.000000      8.000000      8.000000   \n",
              "\n",
              "       ...            X15            X16            X17            X18  \\\n",
              "count  ...   29958.000000   29958.000000   29958.000000   29958.000000   \n",
              "mean   ...   43279.335370   40328.984578   38889.925763    5664.614460   \n",
              "std    ...   64364.684347   60826.219326   59582.883301   16568.823518   \n",
              "min    ... -170000.000000  -81334.000000 -339603.000000       0.000000   \n",
              "25%    ...    2327.500000    1762.250000    1256.000000    1000.000000   \n",
              "50%    ...   19037.500000   18104.500000   17067.500000    2100.000000   \n",
              "75%    ...   54551.250000   50220.750000   49234.750000    5007.000000   \n",
              "max    ...  891586.000000  927171.000000  961664.000000  873552.000000   \n",
              "\n",
              "                X19            X20            X21            X22  \\\n",
              "count  2.995800e+04   29958.000000   29958.000000   29958.000000   \n",
              "mean   5.925715e+03    5228.429969    4829.873556    4801.481574   \n",
              "std    2.305598e+04   17617.338167   15676.205514   15285.552652   \n",
              "min    0.000000e+00       0.000000       0.000000       0.000000   \n",
              "25%    8.352500e+02     390.000000     296.250000     253.250000   \n",
              "50%    2.009000e+03    1800.000000    1500.000000    1500.000000   \n",
              "75%    5.000000e+03    4511.500000    4014.750000    4040.000000   \n",
              "max    1.684259e+06  896040.000000  621000.000000  426529.000000   \n",
              "\n",
              "                 X23             Y  \n",
              "count   29958.000000  29958.000000  \n",
              "mean     5220.708025      0.221143  \n",
              "std     17788.983767      0.415023  \n",
              "min         0.000000      0.000000  \n",
              "25%       118.000000      0.000000  \n",
              "50%      1500.000000      0.000000  \n",
              "75%      4000.000000      0.000000  \n",
              "max    528666.000000      1.000000  \n",
              "\n",
              "[8 rows x 25 columns]"
            ],
            "text/html": [
              "\n",
              "  <div id=\"df-b989e6ca-a529-4f46-966c-816953565034\">\n",
              "    <div class=\"colab-df-container\">\n",
              "      <div>\n",
              "<style scoped>\n",
              "    .dataframe tbody tr th:only-of-type {\n",
              "        vertical-align: middle;\n",
              "    }\n",
              "\n",
              "    .dataframe tbody tr th {\n",
              "        vertical-align: top;\n",
              "    }\n",
              "\n",
              "    .dataframe thead th {\n",
              "        text-align: right;\n",
              "    }\n",
              "</style>\n",
              "<table border=\"1\" class=\"dataframe\">\n",
              "  <thead>\n",
              "    <tr style=\"text-align: right;\">\n",
              "      <th></th>\n",
              "      <th>ID</th>\n",
              "      <th>X1</th>\n",
              "      <th>X2</th>\n",
              "      <th>X3</th>\n",
              "      <th>X4</th>\n",
              "      <th>X5</th>\n",
              "      <th>X6</th>\n",
              "      <th>X7</th>\n",
              "      <th>X8</th>\n",
              "      <th>X9</th>\n",
              "      <th>...</th>\n",
              "      <th>X15</th>\n",
              "      <th>X16</th>\n",
              "      <th>X17</th>\n",
              "      <th>X18</th>\n",
              "      <th>X19</th>\n",
              "      <th>X20</th>\n",
              "      <th>X21</th>\n",
              "      <th>X22</th>\n",
              "      <th>X23</th>\n",
              "      <th>Y</th>\n",
              "    </tr>\n",
              "  </thead>\n",
              "  <tbody>\n",
              "    <tr>\n",
              "      <th>count</th>\n",
              "      <td>29958.000000</td>\n",
              "      <td>29958.000000</td>\n",
              "      <td>29958.000000</td>\n",
              "      <td>29958.000000</td>\n",
              "      <td>29958.000000</td>\n",
              "      <td>29958.000000</td>\n",
              "      <td>29958.000000</td>\n",
              "      <td>29958.000000</td>\n",
              "      <td>29958.000000</td>\n",
              "      <td>29958.000000</td>\n",
              "      <td>...</td>\n",
              "      <td>29958.000000</td>\n",
              "      <td>29958.000000</td>\n",
              "      <td>29958.000000</td>\n",
              "      <td>29958.000000</td>\n",
              "      <td>2.995800e+04</td>\n",
              "      <td>29958.000000</td>\n",
              "      <td>29958.000000</td>\n",
              "      <td>29958.000000</td>\n",
              "      <td>29958.000000</td>\n",
              "      <td>29958.000000</td>\n",
              "    </tr>\n",
              "    <tr>\n",
              "      <th>mean</th>\n",
              "      <td>15005.550504</td>\n",
              "      <td>167555.900928</td>\n",
              "      <td>1.604012</td>\n",
              "      <td>1.853094</td>\n",
              "      <td>1.551739</td>\n",
              "      <td>35.483443</td>\n",
              "      <td>-0.017124</td>\n",
              "      <td>-0.134021</td>\n",
              "      <td>-0.166767</td>\n",
              "      <td>-0.221110</td>\n",
              "      <td>...</td>\n",
              "      <td>43279.335370</td>\n",
              "      <td>40328.984578</td>\n",
              "      <td>38889.925763</td>\n",
              "      <td>5664.614460</td>\n",
              "      <td>5.925715e+03</td>\n",
              "      <td>5228.429969</td>\n",
              "      <td>4829.873556</td>\n",
              "      <td>4801.481574</td>\n",
              "      <td>5220.708025</td>\n",
              "      <td>0.221143</td>\n",
              "    </tr>\n",
              "    <tr>\n",
              "      <th>std</th>\n",
              "      <td>8654.547473</td>\n",
              "      <td>129737.299088</td>\n",
              "      <td>0.489070</td>\n",
              "      <td>0.790471</td>\n",
              "      <td>0.521952</td>\n",
              "      <td>9.214319</td>\n",
              "      <td>1.123989</td>\n",
              "      <td>1.197171</td>\n",
              "      <td>1.196026</td>\n",
              "      <td>1.168419</td>\n",
              "      <td>...</td>\n",
              "      <td>64364.684347</td>\n",
              "      <td>60826.219326</td>\n",
              "      <td>59582.883301</td>\n",
              "      <td>16568.823518</td>\n",
              "      <td>2.305598e+04</td>\n",
              "      <td>17617.338167</td>\n",
              "      <td>15676.205514</td>\n",
              "      <td>15285.552652</td>\n",
              "      <td>17788.983767</td>\n",
              "      <td>0.415023</td>\n",
              "    </tr>\n",
              "    <tr>\n",
              "      <th>min</th>\n",
              "      <td>1.000000</td>\n",
              "      <td>10000.000000</td>\n",
              "      <td>1.000000</td>\n",
              "      <td>0.000000</td>\n",
              "      <td>0.000000</td>\n",
              "      <td>21.000000</td>\n",
              "      <td>-2.000000</td>\n",
              "      <td>-2.000000</td>\n",
              "      <td>-2.000000</td>\n",
              "      <td>-2.000000</td>\n",
              "      <td>...</td>\n",
              "      <td>-170000.000000</td>\n",
              "      <td>-81334.000000</td>\n",
              "      <td>-339603.000000</td>\n",
              "      <td>0.000000</td>\n",
              "      <td>0.000000e+00</td>\n",
              "      <td>0.000000</td>\n",
              "      <td>0.000000</td>\n",
              "      <td>0.000000</td>\n",
              "      <td>0.000000</td>\n",
              "      <td>0.000000</td>\n",
              "    </tr>\n",
              "    <tr>\n",
              "      <th>25%</th>\n",
              "      <td>7516.250000</td>\n",
              "      <td>50000.000000</td>\n",
              "      <td>1.000000</td>\n",
              "      <td>1.000000</td>\n",
              "      <td>1.000000</td>\n",
              "      <td>28.000000</td>\n",
              "      <td>-1.000000</td>\n",
              "      <td>-1.000000</td>\n",
              "      <td>-1.000000</td>\n",
              "      <td>-1.000000</td>\n",
              "      <td>...</td>\n",
              "      <td>2327.500000</td>\n",
              "      <td>1762.250000</td>\n",
              "      <td>1256.000000</td>\n",
              "      <td>1000.000000</td>\n",
              "      <td>8.352500e+02</td>\n",
              "      <td>390.000000</td>\n",
              "      <td>296.250000</td>\n",
              "      <td>253.250000</td>\n",
              "      <td>118.000000</td>\n",
              "      <td>0.000000</td>\n",
              "    </tr>\n",
              "    <tr>\n",
              "      <th>50%</th>\n",
              "      <td>15005.500000</td>\n",
              "      <td>140000.000000</td>\n",
              "      <td>2.000000</td>\n",
              "      <td>2.000000</td>\n",
              "      <td>2.000000</td>\n",
              "      <td>34.000000</td>\n",
              "      <td>0.000000</td>\n",
              "      <td>0.000000</td>\n",
              "      <td>0.000000</td>\n",
              "      <td>0.000000</td>\n",
              "      <td>...</td>\n",
              "      <td>19037.500000</td>\n",
              "      <td>18104.500000</td>\n",
              "      <td>17067.500000</td>\n",
              "      <td>2100.000000</td>\n",
              "      <td>2.009000e+03</td>\n",
              "      <td>1800.000000</td>\n",
              "      <td>1500.000000</td>\n",
              "      <td>1500.000000</td>\n",
              "      <td>1500.000000</td>\n",
              "      <td>0.000000</td>\n",
              "    </tr>\n",
              "    <tr>\n",
              "      <th>75%</th>\n",
              "      <td>22497.750000</td>\n",
              "      <td>240000.000000</td>\n",
              "      <td>2.000000</td>\n",
              "      <td>2.000000</td>\n",
              "      <td>2.000000</td>\n",
              "      <td>41.000000</td>\n",
              "      <td>0.000000</td>\n",
              "      <td>0.000000</td>\n",
              "      <td>0.000000</td>\n",
              "      <td>0.000000</td>\n",
              "      <td>...</td>\n",
              "      <td>54551.250000</td>\n",
              "      <td>50220.750000</td>\n",
              "      <td>49234.750000</td>\n",
              "      <td>5007.000000</td>\n",
              "      <td>5.000000e+03</td>\n",
              "      <td>4511.500000</td>\n",
              "      <td>4014.750000</td>\n",
              "      <td>4040.000000</td>\n",
              "      <td>4000.000000</td>\n",
              "      <td>0.000000</td>\n",
              "    </tr>\n",
              "    <tr>\n",
              "      <th>max</th>\n",
              "      <td>30000.000000</td>\n",
              "      <td>1000000.000000</td>\n",
              "      <td>2.000000</td>\n",
              "      <td>6.000000</td>\n",
              "      <td>3.000000</td>\n",
              "      <td>79.000000</td>\n",
              "      <td>8.000000</td>\n",
              "      <td>8.000000</td>\n",
              "      <td>8.000000</td>\n",
              "      <td>8.000000</td>\n",
              "      <td>...</td>\n",
              "      <td>891586.000000</td>\n",
              "      <td>927171.000000</td>\n",
              "      <td>961664.000000</td>\n",
              "      <td>873552.000000</td>\n",
              "      <td>1.684259e+06</td>\n",
              "      <td>896040.000000</td>\n",
              "      <td>621000.000000</td>\n",
              "      <td>426529.000000</td>\n",
              "      <td>528666.000000</td>\n",
              "      <td>1.000000</td>\n",
              "    </tr>\n",
              "  </tbody>\n",
              "</table>\n",
              "<p>8 rows × 25 columns</p>\n",
              "</div>\n",
              "      <button class=\"colab-df-convert\" onclick=\"convertToInteractive('df-b989e6ca-a529-4f46-966c-816953565034')\"\n",
              "              title=\"Convert this dataframe to an interactive table.\"\n",
              "              style=\"display:none;\">\n",
              "        \n",
              "  <svg xmlns=\"http://www.w3.org/2000/svg\" height=\"24px\"viewBox=\"0 0 24 24\"\n",
              "       width=\"24px\">\n",
              "    <path d=\"M0 0h24v24H0V0z\" fill=\"none\"/>\n",
              "    <path d=\"M18.56 5.44l.94 2.06.94-2.06 2.06-.94-2.06-.94-.94-2.06-.94 2.06-2.06.94zm-11 1L8.5 8.5l.94-2.06 2.06-.94-2.06-.94L8.5 2.5l-.94 2.06-2.06.94zm10 10l.94 2.06.94-2.06 2.06-.94-2.06-.94-.94-2.06-.94 2.06-2.06.94z\"/><path d=\"M17.41 7.96l-1.37-1.37c-.4-.4-.92-.59-1.43-.59-.52 0-1.04.2-1.43.59L10.3 9.45l-7.72 7.72c-.78.78-.78 2.05 0 2.83L4 21.41c.39.39.9.59 1.41.59.51 0 1.02-.2 1.41-.59l7.78-7.78 2.81-2.81c.8-.78.8-2.07 0-2.86zM5.41 20L4 18.59l7.72-7.72 1.47 1.35L5.41 20z\"/>\n",
              "  </svg>\n",
              "      </button>\n",
              "      \n",
              "  <style>\n",
              "    .colab-df-container {\n",
              "      display:flex;\n",
              "      flex-wrap:wrap;\n",
              "      gap: 12px;\n",
              "    }\n",
              "\n",
              "    .colab-df-convert {\n",
              "      background-color: #E8F0FE;\n",
              "      border: none;\n",
              "      border-radius: 50%;\n",
              "      cursor: pointer;\n",
              "      display: none;\n",
              "      fill: #1967D2;\n",
              "      height: 32px;\n",
              "      padding: 0 0 0 0;\n",
              "      width: 32px;\n",
              "    }\n",
              "\n",
              "    .colab-df-convert:hover {\n",
              "      background-color: #E2EBFA;\n",
              "      box-shadow: 0px 1px 2px rgba(60, 64, 67, 0.3), 0px 1px 3px 1px rgba(60, 64, 67, 0.15);\n",
              "      fill: #174EA6;\n",
              "    }\n",
              "\n",
              "    [theme=dark] .colab-df-convert {\n",
              "      background-color: #3B4455;\n",
              "      fill: #D2E3FC;\n",
              "    }\n",
              "\n",
              "    [theme=dark] .colab-df-convert:hover {\n",
              "      background-color: #434B5C;\n",
              "      box-shadow: 0px 1px 3px 1px rgba(0, 0, 0, 0.15);\n",
              "      filter: drop-shadow(0px 1px 2px rgba(0, 0, 0, 0.3));\n",
              "      fill: #FFFFFF;\n",
              "    }\n",
              "  </style>\n",
              "\n",
              "      <script>\n",
              "        const buttonEl =\n",
              "          document.querySelector('#df-b989e6ca-a529-4f46-966c-816953565034 button.colab-df-convert');\n",
              "        buttonEl.style.display =\n",
              "          google.colab.kernel.accessAllowed ? 'block' : 'none';\n",
              "\n",
              "        async function convertToInteractive(key) {\n",
              "          const element = document.querySelector('#df-b989e6ca-a529-4f46-966c-816953565034');\n",
              "          const dataTable =\n",
              "            await google.colab.kernel.invokeFunction('convertToInteractive',\n",
              "                                                     [key], {});\n",
              "          if (!dataTable) return;\n",
              "\n",
              "          const docLinkHtml = 'Like what you see? Visit the ' +\n",
              "            '<a target=\"_blank\" href=https://colab.research.google.com/notebooks/data_table.ipynb>data table notebook</a>'\n",
              "            + ' to learn more about interactive tables.';\n",
              "          element.innerHTML = '';\n",
              "          dataTable['output_type'] = 'display_data';\n",
              "          await google.colab.output.renderOutput(dataTable, element);\n",
              "          const docLink = document.createElement('div');\n",
              "          docLink.innerHTML = docLinkHtml;\n",
              "          element.appendChild(docLink);\n",
              "        }\n",
              "      </script>\n",
              "    </div>\n",
              "  </div>\n",
              "  "
            ]
          },
          "metadata": {},
          "execution_count": 96
        }
      ]
    },
    {
      "cell_type": "markdown",
      "source": [
        "Tomando este información y analizando cada una de las columnas podemos iniciar a verificar cada columna para validar sus datos y modificarlos, ajustarlos o darle el tratamiento adecuado según corresponda."
      ],
      "metadata": {
        "id": "F0kZicDQyDUf"
      }
    },
    {
      "cell_type": "markdown",
      "source": [
        "\n",
        "- **X3 (Educación)**, solo puede contener valores de 1 al 4 y en el dataset el minimo es de cero y el máximo de 6, por lo que se deben reemplazar los valores 0, 5 y 6 con 4 (que es la categoría de otros estudios).\n",
        "\n",
        "- **X4 (Marital)** tiene 3 valores, que son 1, 2 y 3, sin embargo en el dataset también se presentan valores 0, mismos que deben ser reemplazados con 3 (que simboliza otros dentro de esa columna).\n",
        "\n",
        "- **De X6 a X11 (Fechas de pago)** los valores dentro de la columna deben ser -1, 1, 2, 3, 4, 5, 6, 7, 8 y 9, sin embargo se presentan valores con -2, mismos que se pueden reemplazar con -1, debido a que muy probablemente sean errores de captura."
      ],
      "metadata": {
        "id": "bwlI1YImyoQ5"
      }
    },
    {
      "cell_type": "code",
      "source": [
        "df_new2=df_new.copy()"
      ],
      "metadata": {
        "id": "jaPOus1NnMCW"
      },
      "execution_count": 97,
      "outputs": []
    },
    {
      "cell_type": "markdown",
      "source": [
        "Primero trabajaremos la columna de Educación X3 para quedar con los valores correspondientes entre el 1 y el 4."
      ],
      "metadata": {
        "id": "X4kadnsX1HkU"
      }
    },
    {
      "cell_type": "code",
      "source": [
        "df_new2.X3.unique()"
      ],
      "metadata": {
        "colab": {
          "base_uri": "https://localhost:8080/"
        },
        "id": "TWDx0sounL_-",
        "outputId": "2b19616e-f851-4372-f3e1-4c17c6d3306d"
      },
      "execution_count": 98,
      "outputs": [
        {
          "output_type": "execute_result",
          "data": {
            "text/plain": [
              "array([2., 1., 3., 5., 4., 6., 0.])"
            ]
          },
          "metadata": {},
          "execution_count": 98
        }
      ]
    },
    {
      "cell_type": "code",
      "source": [
        "df_new2[\"X3\"] = df_new2[[\"X3\"]].replace([0,5,6],4)"
      ],
      "metadata": {
        "id": "YMSGNOSgnL9Z"
      },
      "execution_count": 99,
      "outputs": []
    },
    {
      "cell_type": "code",
      "source": [
        "df_new2.X4.unique()"
      ],
      "metadata": {
        "colab": {
          "base_uri": "https://localhost:8080/"
        },
        "id": "FQkIxSxsMxfV",
        "outputId": "3b8080c6-77be-44b4-8a1b-ab79a0acb2c6"
      },
      "execution_count": 100,
      "outputs": [
        {
          "output_type": "execute_result",
          "data": {
            "text/plain": [
              "array([1., 2., 3., 0.])"
            ]
          },
          "metadata": {},
          "execution_count": 100
        }
      ]
    },
    {
      "cell_type": "code",
      "source": [
        "df_new2[\"X4\"] = df_new2[[\"X4\"]].replace(0,3)\n",
        "df_new2.X4.unique()"
      ],
      "metadata": {
        "colab": {
          "base_uri": "https://localhost:8080/"
        },
        "id": "maZVbP30M9tu",
        "outputId": "f9af0150-e575-453c-d396-a52b9a19785b"
      },
      "execution_count": 101,
      "outputs": [
        {
          "output_type": "execute_result",
          "data": {
            "text/plain": [
              "array([1., 2., 3.])"
            ]
          },
          "metadata": {},
          "execution_count": 101
        }
      ]
    },
    {
      "cell_type": "markdown",
      "source": [
        "Para las columnas de X6 a X11 sustituiremos el valor de -2 por -1 las cuaes corresponden a pago oportuno."
      ],
      "metadata": {
        "id": "Yf283UiZ2NxT"
      }
    },
    {
      "cell_type": "code",
      "source": [
        "ajust_pago = df_new2.loc[ : , \"X6\":\"X11\"]\n",
        "for c in ajust_pago.columns:\n",
        "  df_new2[c] = df_new2[[c]].replace(-2,-1)"
      ],
      "metadata": {
        "id": "GxKMwevcnL4P"
      },
      "execution_count": 102,
      "outputs": []
    },
    {
      "cell_type": "markdown",
      "source": [
        "De esta forma ahora podemos visualizar las columnas con sus valores y si estas tienen los datos correspondientes a lo definido en la explicación de cada variable."
      ],
      "metadata": {
        "id": "Fv3cr23u3BXv"
      }
    },
    {
      "cell_type": "code",
      "source": [
        "columns_enfasis=df_new2.loc[:,\"X3\":\"X11\"]\n",
        "for i in columns_enfasis.columns:\n",
        "   unic_values=df_new2[i].unique()\n",
        "   print(df_new2[i].name,\": \",sorted(unic_values))"
      ],
      "metadata": {
        "colab": {
          "base_uri": "https://localhost:8080/"
        },
        "id": "AShDxb1mnL1q",
        "outputId": "2e3a5f0b-7271-48e4-b8dc-2fc67c510928"
      },
      "execution_count": 103,
      "outputs": [
        {
          "output_type": "stream",
          "name": "stdout",
          "text": [
            "X3 :  [1.0, 2.0, 3.0, 4.0]\n",
            "X4 :  [1.0, 2.0, 3.0]\n",
            "X5 :  [21.0, 22.0, 23.0, 24.0, 25.0, 26.0, 27.0, 28.0, 29.0, 30.0, 31.0, 32.0, 33.0, 34.0, 35.0, 36.0, 37.0, 38.0, 39.0, 40.0, 41.0, 42.0, 43.0, 44.0, 45.0, 46.0, 47.0, 48.0, 49.0, 50.0, 51.0, 52.0, 53.0, 54.0, 55.0, 56.0, 57.0, 58.0, 59.0, 60.0, 61.0, 62.0, 63.0, 64.0, 65.0, 66.0, 67.0, 68.0, 69.0, 70.0, 71.0, 72.0, 73.0, 74.0, 75.0, 79.0]\n",
            "X6 :  [-1.0, 0.0, 1.0, 2.0, 3.0, 4.0, 5.0, 6.0, 7.0, 8.0]\n",
            "X7 :  [-1.0, 0.0, 1.0, 2.0, 3.0, 4.0, 5.0, 6.0, 7.0, 8.0]\n",
            "X8 :  [-1.0, 0.0, 1.0, 2.0, 3.0, 4.0, 5.0, 6.0, 7.0, 8.0]\n",
            "X9 :  [-1.0, 0.0, 1.0, 2.0, 3.0, 4.0, 5.0, 6.0, 7.0, 8.0]\n",
            "X10 :  [-1.0, 0.0, 2.0, 3.0, 4.0, 5.0, 6.0, 7.0, 8.0]\n",
            "X11 :  [-1.0, 0.0, 2.0, 3.0, 4.0, 5.0, 6.0, 7.0, 8.0]\n"
          ]
        }
      ]
    },
    {
      "cell_type": "markdown",
      "source": [
        "Entre las columnas de X6 a X11 vemos que presentan valores 0 los cuales no estan definidos dentro de la explicación de las variables, por lo que procederemos a cambiarlo por 1, ya que probablemente se debió a un error de digitación.\n"
      ],
      "metadata": {
        "id": "DrjQi_7m4T5B"
      }
    },
    {
      "cell_type": "code",
      "source": [
        "columns_enfasis = df_new2.loc[ : , \"X6\":\"X11\"]\n",
        "for c in columns_enfasis.columns:\n",
        "  df_new2[c] = df_new2[[c]].replace(0,1)"
      ],
      "metadata": {
        "id": "Bw9i8DtQnLyO"
      },
      "execution_count": 104,
      "outputs": []
    },
    {
      "cell_type": "code",
      "source": [
        "columns_enfasis=df_new2.loc[:,\"X3\":\"X11\"]\n",
        "for i in columns_enfasis.columns:\n",
        "   unic_values=df_new2[i].unique()\n",
        "   print(df_new2[i].name,\": \",sorted(unic_values))"
      ],
      "metadata": {
        "colab": {
          "base_uri": "https://localhost:8080/"
        },
        "id": "thZM7xlk5zpU",
        "outputId": "f892de03-f431-4b18-9574-d16abfa1a4df"
      },
      "execution_count": 105,
      "outputs": [
        {
          "output_type": "stream",
          "name": "stdout",
          "text": [
            "X3 :  [1.0, 2.0, 3.0, 4.0]\n",
            "X4 :  [1.0, 2.0, 3.0]\n",
            "X5 :  [21.0, 22.0, 23.0, 24.0, 25.0, 26.0, 27.0, 28.0, 29.0, 30.0, 31.0, 32.0, 33.0, 34.0, 35.0, 36.0, 37.0, 38.0, 39.0, 40.0, 41.0, 42.0, 43.0, 44.0, 45.0, 46.0, 47.0, 48.0, 49.0, 50.0, 51.0, 52.0, 53.0, 54.0, 55.0, 56.0, 57.0, 58.0, 59.0, 60.0, 61.0, 62.0, 63.0, 64.0, 65.0, 66.0, 67.0, 68.0, 69.0, 70.0, 71.0, 72.0, 73.0, 74.0, 75.0, 79.0]\n",
            "X6 :  [-1.0, 1.0, 2.0, 3.0, 4.0, 5.0, 6.0, 7.0, 8.0]\n",
            "X7 :  [-1.0, 1.0, 2.0, 3.0, 4.0, 5.0, 6.0, 7.0, 8.0]\n",
            "X8 :  [-1.0, 1.0, 2.0, 3.0, 4.0, 5.0, 6.0, 7.0, 8.0]\n",
            "X9 :  [-1.0, 1.0, 2.0, 3.0, 4.0, 5.0, 6.0, 7.0, 8.0]\n",
            "X10 :  [-1.0, 1.0, 2.0, 3.0, 4.0, 5.0, 6.0, 7.0, 8.0]\n",
            "X11 :  [-1.0, 1.0, 2.0, 3.0, 4.0, 5.0, 6.0, 7.0, 8.0]\n"
          ]
        }
      ]
    },
    {
      "cell_type": "code",
      "source": [
        "print('Valores menores a 0: ' + str((df_new2.iloc[:,18:23].values < 0).sum()))"
      ],
      "metadata": {
        "colab": {
          "base_uri": "https://localhost:8080/"
        },
        "id": "plWxjwuHKa2G",
        "outputId": "99e6b57d-dbf7-42ff-afbe-f456b78ea3df"
      },
      "execution_count": 106,
      "outputs": [
        {
          "output_type": "stream",
          "name": "stdout",
          "text": [
            "Valores menores a 0: 0\n"
          ]
        }
      ]
    },
    {
      "cell_type": "markdown",
      "source": [
        "Con este paso validamos que estas columnas que representan los pagos realizados sean con valores positivos."
      ],
      "metadata": {
        "id": "pnm81110LeYZ"
      }
    },
    {
      "cell_type": "markdown",
      "source": [
        "Ahora verificamos las columnas despues de la transformación."
      ],
      "metadata": {
        "id": "hJFVM0F557g2"
      }
    },
    {
      "cell_type": "code",
      "source": [
        "df_new2.describe()"
      ],
      "metadata": {
        "colab": {
          "base_uri": "https://localhost:8080/",
          "height": 393
        },
        "id": "3zq1wWU26HzL",
        "outputId": "2f1598f2-08b8-46d9-82db-845eb80e53df"
      },
      "execution_count": 107,
      "outputs": [
        {
          "output_type": "execute_result",
          "data": {
            "text/plain": [
              "                 ID              X1            X2            X3            X4  \\\n",
              "count  29958.000000    29958.000000  29958.000000  29958.000000  29958.000000   \n",
              "mean   15005.550504   167555.900928      1.604012      1.842212      1.557147   \n",
              "std     8654.547473   129737.299088      0.489070      0.744557      0.521388   \n",
              "min        1.000000    10000.000000      1.000000      1.000000      1.000000   \n",
              "25%     7516.250000    50000.000000      1.000000      1.000000      1.000000   \n",
              "50%    15005.500000   140000.000000      2.000000      2.000000      2.000000   \n",
              "75%    22497.750000   240000.000000      2.000000      2.000000      2.000000   \n",
              "max    30000.000000  1000000.000000      2.000000      4.000000      3.000000   \n",
              "\n",
              "                 X5            X6            X7            X8            X9  \\\n",
              "count  29958.000000  29958.000000  29958.000000  29958.000000  29958.000000   \n",
              "mean      35.483443      0.566193      0.516456      0.494960      0.472328   \n",
              "std        9.214319      1.076167      1.153467      1.153255      1.142171   \n",
              "min       21.000000     -1.000000     -1.000000     -1.000000     -1.000000   \n",
              "25%       28.000000     -1.000000     -1.000000     -1.000000     -1.000000   \n",
              "50%       34.000000      1.000000      1.000000      1.000000      1.000000   \n",
              "75%       41.000000      1.000000      1.000000      1.000000      1.000000   \n",
              "max       79.000000      8.000000      8.000000      8.000000      8.000000   \n",
              "\n",
              "       ...            X15            X16            X17            X18  \\\n",
              "count  ...   29958.000000   29958.000000   29958.000000   29958.000000   \n",
              "mean   ...   43279.335370   40328.984578   38889.925763    5664.614460   \n",
              "std    ...   64364.684347   60826.219326   59582.883301   16568.823518   \n",
              "min    ... -170000.000000  -81334.000000 -339603.000000       0.000000   \n",
              "25%    ...    2327.500000    1762.250000    1256.000000    1000.000000   \n",
              "50%    ...   19037.500000   18104.500000   17067.500000    2100.000000   \n",
              "75%    ...   54551.250000   50220.750000   49234.750000    5007.000000   \n",
              "max    ...  891586.000000  927171.000000  961664.000000  873552.000000   \n",
              "\n",
              "                X19            X20            X21            X22  \\\n",
              "count  2.995800e+04   29958.000000   29958.000000   29958.000000   \n",
              "mean   5.925715e+03    5228.429969    4829.873556    4801.481574   \n",
              "std    2.305598e+04   17617.338167   15676.205514   15285.552652   \n",
              "min    0.000000e+00       0.000000       0.000000       0.000000   \n",
              "25%    8.352500e+02     390.000000     296.250000     253.250000   \n",
              "50%    2.009000e+03    1800.000000    1500.000000    1500.000000   \n",
              "75%    5.000000e+03    4511.500000    4014.750000    4040.000000   \n",
              "max    1.684259e+06  896040.000000  621000.000000  426529.000000   \n",
              "\n",
              "                 X23             Y  \n",
              "count   29958.000000  29958.000000  \n",
              "mean     5220.708025      0.221143  \n",
              "std     17788.983767      0.415023  \n",
              "min         0.000000      0.000000  \n",
              "25%       118.000000      0.000000  \n",
              "50%      1500.000000      0.000000  \n",
              "75%      4000.000000      0.000000  \n",
              "max    528666.000000      1.000000  \n",
              "\n",
              "[8 rows x 25 columns]"
            ],
            "text/html": [
              "\n",
              "  <div id=\"df-6fceca68-091e-4e53-a6d6-dd09f34c590c\">\n",
              "    <div class=\"colab-df-container\">\n",
              "      <div>\n",
              "<style scoped>\n",
              "    .dataframe tbody tr th:only-of-type {\n",
              "        vertical-align: middle;\n",
              "    }\n",
              "\n",
              "    .dataframe tbody tr th {\n",
              "        vertical-align: top;\n",
              "    }\n",
              "\n",
              "    .dataframe thead th {\n",
              "        text-align: right;\n",
              "    }\n",
              "</style>\n",
              "<table border=\"1\" class=\"dataframe\">\n",
              "  <thead>\n",
              "    <tr style=\"text-align: right;\">\n",
              "      <th></th>\n",
              "      <th>ID</th>\n",
              "      <th>X1</th>\n",
              "      <th>X2</th>\n",
              "      <th>X3</th>\n",
              "      <th>X4</th>\n",
              "      <th>X5</th>\n",
              "      <th>X6</th>\n",
              "      <th>X7</th>\n",
              "      <th>X8</th>\n",
              "      <th>X9</th>\n",
              "      <th>...</th>\n",
              "      <th>X15</th>\n",
              "      <th>X16</th>\n",
              "      <th>X17</th>\n",
              "      <th>X18</th>\n",
              "      <th>X19</th>\n",
              "      <th>X20</th>\n",
              "      <th>X21</th>\n",
              "      <th>X22</th>\n",
              "      <th>X23</th>\n",
              "      <th>Y</th>\n",
              "    </tr>\n",
              "  </thead>\n",
              "  <tbody>\n",
              "    <tr>\n",
              "      <th>count</th>\n",
              "      <td>29958.000000</td>\n",
              "      <td>29958.000000</td>\n",
              "      <td>29958.000000</td>\n",
              "      <td>29958.000000</td>\n",
              "      <td>29958.000000</td>\n",
              "      <td>29958.000000</td>\n",
              "      <td>29958.000000</td>\n",
              "      <td>29958.000000</td>\n",
              "      <td>29958.000000</td>\n",
              "      <td>29958.000000</td>\n",
              "      <td>...</td>\n",
              "      <td>29958.000000</td>\n",
              "      <td>29958.000000</td>\n",
              "      <td>29958.000000</td>\n",
              "      <td>29958.000000</td>\n",
              "      <td>2.995800e+04</td>\n",
              "      <td>29958.000000</td>\n",
              "      <td>29958.000000</td>\n",
              "      <td>29958.000000</td>\n",
              "      <td>29958.000000</td>\n",
              "      <td>29958.000000</td>\n",
              "    </tr>\n",
              "    <tr>\n",
              "      <th>mean</th>\n",
              "      <td>15005.550504</td>\n",
              "      <td>167555.900928</td>\n",
              "      <td>1.604012</td>\n",
              "      <td>1.842212</td>\n",
              "      <td>1.557147</td>\n",
              "      <td>35.483443</td>\n",
              "      <td>0.566193</td>\n",
              "      <td>0.516456</td>\n",
              "      <td>0.494960</td>\n",
              "      <td>0.472328</td>\n",
              "      <td>...</td>\n",
              "      <td>43279.335370</td>\n",
              "      <td>40328.984578</td>\n",
              "      <td>38889.925763</td>\n",
              "      <td>5664.614460</td>\n",
              "      <td>5.925715e+03</td>\n",
              "      <td>5228.429969</td>\n",
              "      <td>4829.873556</td>\n",
              "      <td>4801.481574</td>\n",
              "      <td>5220.708025</td>\n",
              "      <td>0.221143</td>\n",
              "    </tr>\n",
              "    <tr>\n",
              "      <th>std</th>\n",
              "      <td>8654.547473</td>\n",
              "      <td>129737.299088</td>\n",
              "      <td>0.489070</td>\n",
              "      <td>0.744557</td>\n",
              "      <td>0.521388</td>\n",
              "      <td>9.214319</td>\n",
              "      <td>1.076167</td>\n",
              "      <td>1.153467</td>\n",
              "      <td>1.153255</td>\n",
              "      <td>1.142171</td>\n",
              "      <td>...</td>\n",
              "      <td>64364.684347</td>\n",
              "      <td>60826.219326</td>\n",
              "      <td>59582.883301</td>\n",
              "      <td>16568.823518</td>\n",
              "      <td>2.305598e+04</td>\n",
              "      <td>17617.338167</td>\n",
              "      <td>15676.205514</td>\n",
              "      <td>15285.552652</td>\n",
              "      <td>17788.983767</td>\n",
              "      <td>0.415023</td>\n",
              "    </tr>\n",
              "    <tr>\n",
              "      <th>min</th>\n",
              "      <td>1.000000</td>\n",
              "      <td>10000.000000</td>\n",
              "      <td>1.000000</td>\n",
              "      <td>1.000000</td>\n",
              "      <td>1.000000</td>\n",
              "      <td>21.000000</td>\n",
              "      <td>-1.000000</td>\n",
              "      <td>-1.000000</td>\n",
              "      <td>-1.000000</td>\n",
              "      <td>-1.000000</td>\n",
              "      <td>...</td>\n",
              "      <td>-170000.000000</td>\n",
              "      <td>-81334.000000</td>\n",
              "      <td>-339603.000000</td>\n",
              "      <td>0.000000</td>\n",
              "      <td>0.000000e+00</td>\n",
              "      <td>0.000000</td>\n",
              "      <td>0.000000</td>\n",
              "      <td>0.000000</td>\n",
              "      <td>0.000000</td>\n",
              "      <td>0.000000</td>\n",
              "    </tr>\n",
              "    <tr>\n",
              "      <th>25%</th>\n",
              "      <td>7516.250000</td>\n",
              "      <td>50000.000000</td>\n",
              "      <td>1.000000</td>\n",
              "      <td>1.000000</td>\n",
              "      <td>1.000000</td>\n",
              "      <td>28.000000</td>\n",
              "      <td>-1.000000</td>\n",
              "      <td>-1.000000</td>\n",
              "      <td>-1.000000</td>\n",
              "      <td>-1.000000</td>\n",
              "      <td>...</td>\n",
              "      <td>2327.500000</td>\n",
              "      <td>1762.250000</td>\n",
              "      <td>1256.000000</td>\n",
              "      <td>1000.000000</td>\n",
              "      <td>8.352500e+02</td>\n",
              "      <td>390.000000</td>\n",
              "      <td>296.250000</td>\n",
              "      <td>253.250000</td>\n",
              "      <td>118.000000</td>\n",
              "      <td>0.000000</td>\n",
              "    </tr>\n",
              "    <tr>\n",
              "      <th>50%</th>\n",
              "      <td>15005.500000</td>\n",
              "      <td>140000.000000</td>\n",
              "      <td>2.000000</td>\n",
              "      <td>2.000000</td>\n",
              "      <td>2.000000</td>\n",
              "      <td>34.000000</td>\n",
              "      <td>1.000000</td>\n",
              "      <td>1.000000</td>\n",
              "      <td>1.000000</td>\n",
              "      <td>1.000000</td>\n",
              "      <td>...</td>\n",
              "      <td>19037.500000</td>\n",
              "      <td>18104.500000</td>\n",
              "      <td>17067.500000</td>\n",
              "      <td>2100.000000</td>\n",
              "      <td>2.009000e+03</td>\n",
              "      <td>1800.000000</td>\n",
              "      <td>1500.000000</td>\n",
              "      <td>1500.000000</td>\n",
              "      <td>1500.000000</td>\n",
              "      <td>0.000000</td>\n",
              "    </tr>\n",
              "    <tr>\n",
              "      <th>75%</th>\n",
              "      <td>22497.750000</td>\n",
              "      <td>240000.000000</td>\n",
              "      <td>2.000000</td>\n",
              "      <td>2.000000</td>\n",
              "      <td>2.000000</td>\n",
              "      <td>41.000000</td>\n",
              "      <td>1.000000</td>\n",
              "      <td>1.000000</td>\n",
              "      <td>1.000000</td>\n",
              "      <td>1.000000</td>\n",
              "      <td>...</td>\n",
              "      <td>54551.250000</td>\n",
              "      <td>50220.750000</td>\n",
              "      <td>49234.750000</td>\n",
              "      <td>5007.000000</td>\n",
              "      <td>5.000000e+03</td>\n",
              "      <td>4511.500000</td>\n",
              "      <td>4014.750000</td>\n",
              "      <td>4040.000000</td>\n",
              "      <td>4000.000000</td>\n",
              "      <td>0.000000</td>\n",
              "    </tr>\n",
              "    <tr>\n",
              "      <th>max</th>\n",
              "      <td>30000.000000</td>\n",
              "      <td>1000000.000000</td>\n",
              "      <td>2.000000</td>\n",
              "      <td>4.000000</td>\n",
              "      <td>3.000000</td>\n",
              "      <td>79.000000</td>\n",
              "      <td>8.000000</td>\n",
              "      <td>8.000000</td>\n",
              "      <td>8.000000</td>\n",
              "      <td>8.000000</td>\n",
              "      <td>...</td>\n",
              "      <td>891586.000000</td>\n",
              "      <td>927171.000000</td>\n",
              "      <td>961664.000000</td>\n",
              "      <td>873552.000000</td>\n",
              "      <td>1.684259e+06</td>\n",
              "      <td>896040.000000</td>\n",
              "      <td>621000.000000</td>\n",
              "      <td>426529.000000</td>\n",
              "      <td>528666.000000</td>\n",
              "      <td>1.000000</td>\n",
              "    </tr>\n",
              "  </tbody>\n",
              "</table>\n",
              "<p>8 rows × 25 columns</p>\n",
              "</div>\n",
              "      <button class=\"colab-df-convert\" onclick=\"convertToInteractive('df-6fceca68-091e-4e53-a6d6-dd09f34c590c')\"\n",
              "              title=\"Convert this dataframe to an interactive table.\"\n",
              "              style=\"display:none;\">\n",
              "        \n",
              "  <svg xmlns=\"http://www.w3.org/2000/svg\" height=\"24px\"viewBox=\"0 0 24 24\"\n",
              "       width=\"24px\">\n",
              "    <path d=\"M0 0h24v24H0V0z\" fill=\"none\"/>\n",
              "    <path d=\"M18.56 5.44l.94 2.06.94-2.06 2.06-.94-2.06-.94-.94-2.06-.94 2.06-2.06.94zm-11 1L8.5 8.5l.94-2.06 2.06-.94-2.06-.94L8.5 2.5l-.94 2.06-2.06.94zm10 10l.94 2.06.94-2.06 2.06-.94-2.06-.94-.94-2.06-.94 2.06-2.06.94z\"/><path d=\"M17.41 7.96l-1.37-1.37c-.4-.4-.92-.59-1.43-.59-.52 0-1.04.2-1.43.59L10.3 9.45l-7.72 7.72c-.78.78-.78 2.05 0 2.83L4 21.41c.39.39.9.59 1.41.59.51 0 1.02-.2 1.41-.59l7.78-7.78 2.81-2.81c.8-.78.8-2.07 0-2.86zM5.41 20L4 18.59l7.72-7.72 1.47 1.35L5.41 20z\"/>\n",
              "  </svg>\n",
              "      </button>\n",
              "      \n",
              "  <style>\n",
              "    .colab-df-container {\n",
              "      display:flex;\n",
              "      flex-wrap:wrap;\n",
              "      gap: 12px;\n",
              "    }\n",
              "\n",
              "    .colab-df-convert {\n",
              "      background-color: #E8F0FE;\n",
              "      border: none;\n",
              "      border-radius: 50%;\n",
              "      cursor: pointer;\n",
              "      display: none;\n",
              "      fill: #1967D2;\n",
              "      height: 32px;\n",
              "      padding: 0 0 0 0;\n",
              "      width: 32px;\n",
              "    }\n",
              "\n",
              "    .colab-df-convert:hover {\n",
              "      background-color: #E2EBFA;\n",
              "      box-shadow: 0px 1px 2px rgba(60, 64, 67, 0.3), 0px 1px 3px 1px rgba(60, 64, 67, 0.15);\n",
              "      fill: #174EA6;\n",
              "    }\n",
              "\n",
              "    [theme=dark] .colab-df-convert {\n",
              "      background-color: #3B4455;\n",
              "      fill: #D2E3FC;\n",
              "    }\n",
              "\n",
              "    [theme=dark] .colab-df-convert:hover {\n",
              "      background-color: #434B5C;\n",
              "      box-shadow: 0px 1px 3px 1px rgba(0, 0, 0, 0.15);\n",
              "      filter: drop-shadow(0px 1px 2px rgba(0, 0, 0, 0.3));\n",
              "      fill: #FFFFFF;\n",
              "    }\n",
              "  </style>\n",
              "\n",
              "      <script>\n",
              "        const buttonEl =\n",
              "          document.querySelector('#df-6fceca68-091e-4e53-a6d6-dd09f34c590c button.colab-df-convert');\n",
              "        buttonEl.style.display =\n",
              "          google.colab.kernel.accessAllowed ? 'block' : 'none';\n",
              "\n",
              "        async function convertToInteractive(key) {\n",
              "          const element = document.querySelector('#df-6fceca68-091e-4e53-a6d6-dd09f34c590c');\n",
              "          const dataTable =\n",
              "            await google.colab.kernel.invokeFunction('convertToInteractive',\n",
              "                                                     [key], {});\n",
              "          if (!dataTable) return;\n",
              "\n",
              "          const docLinkHtml = 'Like what you see? Visit the ' +\n",
              "            '<a target=\"_blank\" href=https://colab.research.google.com/notebooks/data_table.ipynb>data table notebook</a>'\n",
              "            + ' to learn more about interactive tables.';\n",
              "          element.innerHTML = '';\n",
              "          dataTable['output_type'] = 'display_data';\n",
              "          await google.colab.output.renderOutput(dataTable, element);\n",
              "          const docLink = document.createElement('div');\n",
              "          docLink.innerHTML = docLinkHtml;\n",
              "          element.appendChild(docLink);\n",
              "        }\n",
              "      </script>\n",
              "    </div>\n",
              "  </div>\n",
              "  "
            ]
          },
          "metadata": {},
          "execution_count": 107
        }
      ]
    },
    {
      "cell_type": "markdown",
      "source": [
        "De esta forma ya obtenemos nuestro dataset depurado y listo para ser trabajado."
      ],
      "metadata": {
        "id": "MvfbfGyN8Oah"
      }
    },
    {
      "cell_type": "markdown",
      "source": [
        "\n",
        "###**Parte 3: Preparación de los datos**"
      ],
      "metadata": {
        "id": "vNJxCL6dCzby"
      }
    },
    {
      "cell_type": "markdown",
      "source": [
        "**1. ¿Qué datos considero mas importantes? ¿Por qué?**\n",
        "\n",
        "Creo que el nivel de educación es moderadamente importante porque puede dar una idea relativa de los ingresos de una persona. Estas variables toman en cuenta el monto pagado y el monto adeudado para dar una idea del flujo de dinero que está generando un individuo. En general, el dato que considero más importante es el historial de pagos pasados ​​[X6:X11], que muestra si pagó a tiempo y cuánto se retrasó. Por la presente, las obligaciones relativas al pago y las previsiones."
      ],
      "metadata": {
        "id": "lidw6-gPDRje"
      }
    },
    {
      "cell_type": "markdown",
      "source": [
        " **2. ¿Se eliminaron o reemplazaron datos nulos? ¿Qué se hizo y por qué?**\n",
        "\n",
        "Se eliminaron todas las filas con valores nulos, ya que despues de analizar el porcentaje correspondiente a el total de filas con valores nulos respecto al total de filas del dataset, se pudo evidenciar que correspondía a un 0.14% por lo tanto la eliminación de estas no generaría un cambio que alerara significativamente nuestro dataset para un posterior analisis del modelo de datos."
      ],
      "metadata": {
        "id": "6QfiJGsrEUst"
      }
    },
    {
      "cell_type": "markdown",
      "source": [
        "**3. ¿Es necesario ordenar los datos para el análisis? Sí / No / ¿Por qué?**\n",
        "\n",
        "No parece necesario hacerlo si la pregunta se refiere a realizarlo de una forma ascendente o descendente ya que al ser 30 mil filas es complejo identificar detalles al hacerlo de esta forma, pero si es muy necesario un orden general, entendiendo este orden como una estandarización y aseguramiento de que los valores de las variables correspondan a lo debido, que no se presenten valores que no coincidan con el alcance que la variable pretende representar."
      ],
      "metadata": {
        "id": "r-l_rLl9GKzP"
      }
    },
    {
      "cell_type": "markdown",
      "source": [
        "**4. ¿Existen problemas de formato que deban solucionar antes del proceso de modelado? Sí / No / Por qué.**\n",
        "\n",
        "Sí, hay problemas que deben resolverse antes de proceder con el modelado. Por ejemplo,si la edad asignada es adecuada (que se denote una mayoría de edad), el monto de la deuda, los pagos vencidos ​​y el historial de pagos no deben ser negativos. Esto se tuvo que hacer porque si el valor estaba fuera del rango normal definido por la misma descripción de la variable, simplemente era un dato inexistente o inválido para esa clasificación. Un ejemplo de tal corrección es la opción 'Otro' que se seleccionó en la categoría Marital (al reasignar los datos que no estaban dentro de las opciones de clasificación)."
      ],
      "metadata": {
        "id": "pgyYwfXJH3T5"
      }
    },
    {
      "cell_type": "markdown",
      "source": [
        "**5. ¿Qué ajustes se realizaron en el proceso de limpieza de datos (agregar, integrar, eliminar, modificar registros (filas), cambiar atributos (columnas)?**\n",
        "\n",
        "En este caso, comenzamos a trabajar en los valores atípicos. Cada columna define qué valores son posibles. Para  la columna \"Educación\" en X3, encontré valores en 0, 5, 6, así que  la convertí en \"4=Otro\". La columna de estado civil en X4 solo tiene opciones para los valores  1, 2 y 3. Sin embargo, encontré unos valores de 0, así que lo puse en la variable \"3=otro\". Para X6-11 no existen valores inferiores a -1. Por lo tanto, todos los valores negativos se supusieron iguales a -1. Esto se debe a que un valor de -1 equivale al hecho de que  el pago se realizó a tiempo, y un valor superior a 0 equivale a la cantidad de meses que se retrasó el pago.En esta variables tambien se encontraron valores en 0, los cuales no estaban definidos según las correspondencias de esta variable por lo que se asumieron como un eror de digitación y se llevaron a 1.En la práctica, tendríamos que ver cómo se recolectaron los datos para confirmar esta suposición, pero esta sustitución se hizo en el ejercicio."
      ],
      "metadata": {
        "id": "c55en3YUJK2e"
      }
    },
    {
      "cell_type": "markdown",
      "source": [
        "**Referencias:**\n",
        "\n",
        "- Kane, F. (2017). Hands-On Data Science and Python Machine Learning. Packt Publising Ltd.\n",
        "\n",
        "- Teate, R. M. (2021). SQL for Data Scientiests. Wiley\n",
        "\n",
        "- https://towardsdatascience.com/databases-101-introduction-to-databases-for-data-scientists-ee18c9f0785d"
      ],
      "metadata": {
        "id": "5XpoQeePScGV"
      }
    }
  ]
}