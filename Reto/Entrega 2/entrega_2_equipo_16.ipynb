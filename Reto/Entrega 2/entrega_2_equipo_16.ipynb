{
 "cells": [
  {
   "cell_type": "markdown",
   "metadata": {},
   "source": [
    "<h1> Reto - Entrega 2\n",
    "\n",
    "<h2>Johan Andrés Castro Gomez - Matricula A01793556\n",
    "\n",
    "<h2>Mateo Cruz Lanchero - Matricula A01793882"
   ]
  },
  {
   "cell_type": "markdown",
   "metadata": {},
   "source": [
    "<h3>Librerías"
   ]
  },
  {
   "cell_type": "code",
   "execution_count": 198,
   "metadata": {},
   "outputs": [],
   "source": [
    "import pandas as pd\n",
    "import numpy as np\n",
    "import matplotlib.pyplot as plt\n",
    "import seaborn as sns\n",
    "\n",
    "from sklearn import preprocessing\n",
    "from sklearn.model_selection import train_test_split \n",
    "\n",
    "from sklearn.pipeline import Pipeline\n",
    "from sklearn.compose import ColumnTransformer\n",
    "\n",
    "from sklearn.tree import DecisionTreeClassifier\n",
    "from sklearn.ensemble import RandomForestClassifier\n",
    "\n",
    "from sklearn.metrics import confusion_matrix\n",
    "from sklearn.metrics import classification_report"
   ]
  },
  {
   "cell_type": "markdown",
   "metadata": {},
   "source": [
    "<h3>Selección de variables"
   ]
  },
  {
   "cell_type": "code",
   "execution_count": 165,
   "metadata": {},
   "outputs": [
    {
     "data": {
      "text/html": [
       "<div>\n",
       "<style scoped>\n",
       "    .dataframe tbody tr th:only-of-type {\n",
       "        vertical-align: middle;\n",
       "    }\n",
       "\n",
       "    .dataframe tbody tr th {\n",
       "        vertical-align: top;\n",
       "    }\n",
       "\n",
       "    .dataframe thead th {\n",
       "        text-align: right;\n",
       "    }\n",
       "</style>\n",
       "<table border=\"1\" class=\"dataframe\">\n",
       "  <thead>\n",
       "    <tr style=\"text-align: right;\">\n",
       "      <th></th>\n",
       "      <th>CLAVE</th>\n",
       "      <th>SITIO</th>\n",
       "      <th>ORGANISMO_DE_CUENCA</th>\n",
       "      <th>ESTADO</th>\n",
       "      <th>MUNICIPIO</th>\n",
       "      <th>ACUIFERO</th>\n",
       "      <th>SUBTIPO</th>\n",
       "      <th>LONGITUD</th>\n",
       "      <th>LATITUD</th>\n",
       "      <th>PERIODO</th>\n",
       "      <th>...</th>\n",
       "      <th>CUMPLE_CON_DUR</th>\n",
       "      <th>CUMPLE_CON_CF</th>\n",
       "      <th>CUMPLE_CON_NO3</th>\n",
       "      <th>CUMPLE_CON_AS</th>\n",
       "      <th>CUMPLE_CON_CD</th>\n",
       "      <th>CUMPLE_CON_CR</th>\n",
       "      <th>CUMPLE_CON_HG</th>\n",
       "      <th>CUMPLE_CON_PB</th>\n",
       "      <th>CUMPLE_CON_MN</th>\n",
       "      <th>CUMPLE_CON_FE</th>\n",
       "    </tr>\n",
       "  </thead>\n",
       "  <tbody>\n",
       "    <tr>\n",
       "      <th>0</th>\n",
       "      <td>DLAGU6</td>\n",
       "      <td>POZO SAN GIL</td>\n",
       "      <td>LERMA SANTIAGO PACIFICO</td>\n",
       "      <td>AGUASCALIENTES</td>\n",
       "      <td>ASIENTOS</td>\n",
       "      <td>VALLE DE CHICALOTE</td>\n",
       "      <td>POZO</td>\n",
       "      <td>-102.02210</td>\n",
       "      <td>22.20887</td>\n",
       "      <td>2020</td>\n",
       "      <td>...</td>\n",
       "      <td>SI</td>\n",
       "      <td>SI</td>\n",
       "      <td>SI</td>\n",
       "      <td>SI</td>\n",
       "      <td>SI</td>\n",
       "      <td>SI</td>\n",
       "      <td>SI</td>\n",
       "      <td>SI</td>\n",
       "      <td>SI</td>\n",
       "      <td>SI</td>\n",
       "    </tr>\n",
       "    <tr>\n",
       "      <th>1</th>\n",
       "      <td>DLAGU6516</td>\n",
       "      <td>POZO R013 CAÑADA HONDA</td>\n",
       "      <td>LERMA SANTIAGO PACIFICO</td>\n",
       "      <td>AGUASCALIENTES</td>\n",
       "      <td>AGUASCALIENTES</td>\n",
       "      <td>VALLE DE CHICALOTE</td>\n",
       "      <td>POZO</td>\n",
       "      <td>-102.20075</td>\n",
       "      <td>21.99958</td>\n",
       "      <td>2020</td>\n",
       "      <td>...</td>\n",
       "      <td>SI</td>\n",
       "      <td>SI</td>\n",
       "      <td>SI</td>\n",
       "      <td>SI</td>\n",
       "      <td>SI</td>\n",
       "      <td>SI</td>\n",
       "      <td>SI</td>\n",
       "      <td>SI</td>\n",
       "      <td>SI</td>\n",
       "      <td>SI</td>\n",
       "    </tr>\n",
       "    <tr>\n",
       "      <th>2</th>\n",
       "      <td>DLAGU7</td>\n",
       "      <td>POZO COSIO</td>\n",
       "      <td>LERMA SANTIAGO PACIFICO</td>\n",
       "      <td>AGUASCALIENTES</td>\n",
       "      <td>COSIO</td>\n",
       "      <td>VALLE DE AGUASCALIENTES</td>\n",
       "      <td>POZO</td>\n",
       "      <td>-102.28801</td>\n",
       "      <td>22.36685</td>\n",
       "      <td>2020</td>\n",
       "      <td>...</td>\n",
       "      <td>SI</td>\n",
       "      <td>SI</td>\n",
       "      <td>SI</td>\n",
       "      <td>NO</td>\n",
       "      <td>SI</td>\n",
       "      <td>SI</td>\n",
       "      <td>SI</td>\n",
       "      <td>SI</td>\n",
       "      <td>SI</td>\n",
       "      <td>SI</td>\n",
       "    </tr>\n",
       "    <tr>\n",
       "      <th>3</th>\n",
       "      <td>DLAGU9</td>\n",
       "      <td>POZO EL SALITRILLO</td>\n",
       "      <td>LERMA SANTIAGO PACIFICO</td>\n",
       "      <td>AGUASCALIENTES</td>\n",
       "      <td>RINCON DE ROMOS</td>\n",
       "      <td>VALLE DE AGUASCALIENTES</td>\n",
       "      <td>POZO</td>\n",
       "      <td>-102.29449</td>\n",
       "      <td>22.18435</td>\n",
       "      <td>2020</td>\n",
       "      <td>...</td>\n",
       "      <td>SI</td>\n",
       "      <td>SI</td>\n",
       "      <td>SI</td>\n",
       "      <td>SI</td>\n",
       "      <td>SI</td>\n",
       "      <td>SI</td>\n",
       "      <td>SI</td>\n",
       "      <td>SI</td>\n",
       "      <td>SI</td>\n",
       "      <td>SI</td>\n",
       "    </tr>\n",
       "    <tr>\n",
       "      <th>4</th>\n",
       "      <td>DLBAJ107</td>\n",
       "      <td>RANCHO EL TECOLOTE</td>\n",
       "      <td>PENINSULA DE BAJA CALIFORNIA</td>\n",
       "      <td>BAJA CALIFORNIA SUR</td>\n",
       "      <td>LA PAZ</td>\n",
       "      <td>TODOS SANTOS</td>\n",
       "      <td>POZO</td>\n",
       "      <td>-110.24480</td>\n",
       "      <td>23.45138</td>\n",
       "      <td>2020</td>\n",
       "      <td>...</td>\n",
       "      <td>SI</td>\n",
       "      <td>SI</td>\n",
       "      <td>NO</td>\n",
       "      <td>SI</td>\n",
       "      <td>SI</td>\n",
       "      <td>SI</td>\n",
       "      <td>SI</td>\n",
       "      <td>SI</td>\n",
       "      <td>SI</td>\n",
       "      <td>SI</td>\n",
       "    </tr>\n",
       "    <tr>\n",
       "      <th>...</th>\n",
       "      <td>...</td>\n",
       "      <td>...</td>\n",
       "      <td>...</td>\n",
       "      <td>...</td>\n",
       "      <td>...</td>\n",
       "      <td>...</td>\n",
       "      <td>...</td>\n",
       "      <td>...</td>\n",
       "      <td>...</td>\n",
       "      <td>...</td>\n",
       "      <td>...</td>\n",
       "      <td>...</td>\n",
       "      <td>...</td>\n",
       "      <td>...</td>\n",
       "      <td>...</td>\n",
       "      <td>...</td>\n",
       "      <td>...</td>\n",
       "      <td>...</td>\n",
       "      <td>...</td>\n",
       "      <td>...</td>\n",
       "      <td>...</td>\n",
       "    </tr>\n",
       "    <tr>\n",
       "      <th>1063</th>\n",
       "      <td>OCRBR5101M1</td>\n",
       "      <td>L-310 (COMUNIDAD SAN MANUEL)</td>\n",
       "      <td>RIO BRAVO</td>\n",
       "      <td>NUEVO LEON</td>\n",
       "      <td>LINARES</td>\n",
       "      <td>CITRICOLA SUR</td>\n",
       "      <td>POZO</td>\n",
       "      <td>-99.54191</td>\n",
       "      <td>24.76036</td>\n",
       "      <td>2020</td>\n",
       "      <td>...</td>\n",
       "      <td>NO</td>\n",
       "      <td>SI</td>\n",
       "      <td>NO</td>\n",
       "      <td>SI</td>\n",
       "      <td>SI</td>\n",
       "      <td>SI</td>\n",
       "      <td>SI</td>\n",
       "      <td>SI</td>\n",
       "      <td>SI</td>\n",
       "      <td>SI</td>\n",
       "    </tr>\n",
       "    <tr>\n",
       "      <th>1064</th>\n",
       "      <td>OCRBR5102M1</td>\n",
       "      <td>L-305 (EJIDO OJO DE AGUA LAS CRUCESITAS)</td>\n",
       "      <td>RIO BRAVO</td>\n",
       "      <td>NUEVO LEON</td>\n",
       "      <td>LINARES</td>\n",
       "      <td>CITRICOLA SUR</td>\n",
       "      <td>POZO</td>\n",
       "      <td>-99.70099</td>\n",
       "      <td>24.78280</td>\n",
       "      <td>2020</td>\n",
       "      <td>...</td>\n",
       "      <td>SI</td>\n",
       "      <td>SI</td>\n",
       "      <td>NO</td>\n",
       "      <td>SI</td>\n",
       "      <td>SI</td>\n",
       "      <td>SI</td>\n",
       "      <td>SI</td>\n",
       "      <td>SI</td>\n",
       "      <td>SI</td>\n",
       "      <td>SI</td>\n",
       "    </tr>\n",
       "    <tr>\n",
       "      <th>1065</th>\n",
       "      <td>OCRBR5105M2</td>\n",
       "      <td>HACIENDA MEXIQUITO POZO 01</td>\n",
       "      <td>RIO BRAVO</td>\n",
       "      <td>NUEVO LEON</td>\n",
       "      <td>CADEREYTA JIMENEZ</td>\n",
       "      <td>CITRICOLA NORTE</td>\n",
       "      <td>POZO</td>\n",
       "      <td>-99.82249</td>\n",
       "      <td>25.55197</td>\n",
       "      <td>2020</td>\n",
       "      <td>...</td>\n",
       "      <td>NO</td>\n",
       "      <td>SI</td>\n",
       "      <td>NO</td>\n",
       "      <td>SI</td>\n",
       "      <td>SI</td>\n",
       "      <td>SI</td>\n",
       "      <td>SI</td>\n",
       "      <td>SI</td>\n",
       "      <td>SI</td>\n",
       "      <td>SI</td>\n",
       "    </tr>\n",
       "    <tr>\n",
       "      <th>1066</th>\n",
       "      <td>OCRBR5106M1</td>\n",
       "      <td>COMUNIDAD LOS POCITOS</td>\n",
       "      <td>RIO BRAVO</td>\n",
       "      <td>NUEVO LEON</td>\n",
       "      <td>GALEANA</td>\n",
       "      <td>NAVIDAD-POTOSI-RAICES</td>\n",
       "      <td>POZO</td>\n",
       "      <td>-100.32683</td>\n",
       "      <td>24.80118</td>\n",
       "      <td>2020</td>\n",
       "      <td>...</td>\n",
       "      <td>SI</td>\n",
       "      <td>SI</td>\n",
       "      <td>SI</td>\n",
       "      <td>SI</td>\n",
       "      <td>SI</td>\n",
       "      <td>SI</td>\n",
       "      <td>SI</td>\n",
       "      <td>SI</td>\n",
       "      <td>SI</td>\n",
       "      <td>SI</td>\n",
       "    </tr>\n",
       "    <tr>\n",
       "      <th>1067</th>\n",
       "      <td>OCRBR5109M1</td>\n",
       "      <td>COMUNIDAD LA REFORMA</td>\n",
       "      <td>RIO BRAVO</td>\n",
       "      <td>NUEVO LEON</td>\n",
       "      <td>GALEANA</td>\n",
       "      <td>NAVIDAD-POTOSI-RAICES</td>\n",
       "      <td>POZO</td>\n",
       "      <td>-100.73302</td>\n",
       "      <td>25.09380</td>\n",
       "      <td>2020</td>\n",
       "      <td>...</td>\n",
       "      <td>SI</td>\n",
       "      <td>SI</td>\n",
       "      <td>SI</td>\n",
       "      <td>SI</td>\n",
       "      <td>SI</td>\n",
       "      <td>SI</td>\n",
       "      <td>SI</td>\n",
       "      <td>SI</td>\n",
       "      <td>SI</td>\n",
       "      <td>SI</td>\n",
       "    </tr>\n",
       "  </tbody>\n",
       "</table>\n",
       "<p>1068 rows × 57 columns</p>\n",
       "</div>"
      ],
      "text/plain": [
       "            CLAVE                                     SITIO  \\\n",
       "0          DLAGU6                              POZO SAN GIL   \n",
       "1       DLAGU6516                    POZO R013 CAÑADA HONDA   \n",
       "2          DLAGU7                                POZO COSIO   \n",
       "3          DLAGU9                        POZO EL SALITRILLO   \n",
       "4        DLBAJ107                        RANCHO EL TECOLOTE   \n",
       "...           ...                                       ...   \n",
       "1063  OCRBR5101M1              L-310 (COMUNIDAD SAN MANUEL)   \n",
       "1064  OCRBR5102M1  L-305 (EJIDO OJO DE AGUA LAS CRUCESITAS)   \n",
       "1065  OCRBR5105M2                HACIENDA MEXIQUITO POZO 01   \n",
       "1066  OCRBR5106M1                     COMUNIDAD LOS POCITOS   \n",
       "1067  OCRBR5109M1                      COMUNIDAD LA REFORMA   \n",
       "\n",
       "               ORGANISMO_DE_CUENCA               ESTADO          MUNICIPIO  \\\n",
       "0          LERMA SANTIAGO PACIFICO       AGUASCALIENTES           ASIENTOS   \n",
       "1          LERMA SANTIAGO PACIFICO       AGUASCALIENTES     AGUASCALIENTES   \n",
       "2          LERMA SANTIAGO PACIFICO       AGUASCALIENTES              COSIO   \n",
       "3          LERMA SANTIAGO PACIFICO       AGUASCALIENTES    RINCON DE ROMOS   \n",
       "4     PENINSULA DE BAJA CALIFORNIA  BAJA CALIFORNIA SUR             LA PAZ   \n",
       "...                            ...                  ...                ...   \n",
       "1063                     RIO BRAVO           NUEVO LEON            LINARES   \n",
       "1064                     RIO BRAVO           NUEVO LEON            LINARES   \n",
       "1065                     RIO BRAVO           NUEVO LEON  CADEREYTA JIMENEZ   \n",
       "1066                     RIO BRAVO           NUEVO LEON            GALEANA   \n",
       "1067                     RIO BRAVO           NUEVO LEON            GALEANA   \n",
       "\n",
       "                     ACUIFERO SUBTIPO   LONGITUD   LATITUD  PERIODO  ...  \\\n",
       "0          VALLE DE CHICALOTE    POZO -102.02210  22.20887     2020  ...   \n",
       "1          VALLE DE CHICALOTE    POZO -102.20075  21.99958     2020  ...   \n",
       "2     VALLE DE AGUASCALIENTES    POZO -102.28801  22.36685     2020  ...   \n",
       "3     VALLE DE AGUASCALIENTES    POZO -102.29449  22.18435     2020  ...   \n",
       "4                TODOS SANTOS    POZO -110.24480  23.45138     2020  ...   \n",
       "...                       ...     ...        ...       ...      ...  ...   \n",
       "1063            CITRICOLA SUR    POZO  -99.54191  24.76036     2020  ...   \n",
       "1064            CITRICOLA SUR    POZO  -99.70099  24.78280     2020  ...   \n",
       "1065          CITRICOLA NORTE    POZO  -99.82249  25.55197     2020  ...   \n",
       "1066    NAVIDAD-POTOSI-RAICES    POZO -100.32683  24.80118     2020  ...   \n",
       "1067    NAVIDAD-POTOSI-RAICES    POZO -100.73302  25.09380     2020  ...   \n",
       "\n",
       "      CUMPLE_CON_DUR CUMPLE_CON_CF  CUMPLE_CON_NO3 CUMPLE_CON_AS  \\\n",
       "0                 SI            SI              SI            SI   \n",
       "1                 SI            SI              SI            SI   \n",
       "2                 SI            SI              SI            NO   \n",
       "3                 SI            SI              SI            SI   \n",
       "4                 SI            SI              NO            SI   \n",
       "...              ...           ...             ...           ...   \n",
       "1063              NO            SI              NO            SI   \n",
       "1064              SI            SI              NO            SI   \n",
       "1065              NO            SI              NO            SI   \n",
       "1066              SI            SI              SI            SI   \n",
       "1067              SI            SI              SI            SI   \n",
       "\n",
       "      CUMPLE_CON_CD CUMPLE_CON_CR CUMPLE_CON_HG CUMPLE_CON_PB CUMPLE_CON_MN  \\\n",
       "0                SI            SI            SI            SI            SI   \n",
       "1                SI            SI            SI            SI            SI   \n",
       "2                SI            SI            SI            SI            SI   \n",
       "3                SI            SI            SI            SI            SI   \n",
       "4                SI            SI            SI            SI            SI   \n",
       "...             ...           ...           ...           ...           ...   \n",
       "1063             SI            SI            SI            SI            SI   \n",
       "1064             SI            SI            SI            SI            SI   \n",
       "1065             SI            SI            SI            SI            SI   \n",
       "1066             SI            SI            SI            SI            SI   \n",
       "1067             SI            SI            SI            SI            SI   \n",
       "\n",
       "     CUMPLE_CON_FE  \n",
       "0               SI  \n",
       "1               SI  \n",
       "2               SI  \n",
       "3               SI  \n",
       "4               SI  \n",
       "...            ...  \n",
       "1063            SI  \n",
       "1064            SI  \n",
       "1065            SI  \n",
       "1066            SI  \n",
       "1067            SI  \n",
       "\n",
       "[1068 rows x 57 columns]"
      ]
     },
     "execution_count": 165,
     "metadata": {},
     "output_type": "execute_result"
    }
   ],
   "source": [
    "path = 'https://raw.githubusercontent.com/PosgradoMNA/actividades-del-projecto-Equipo_16/main/Reto/Entrega%201/Datos/Datos_de_calidad_del_agua_2020/Datos_de_calidad_del_agua_de_sitios_de_monitoreo_de_aguas_subterraneas_2020.csv'\n",
    "df_sub =  pd.read_csv(path, encoding= 'latin-1')\n",
    "df_sub"
   ]
  },
  {
   "cell_type": "code",
   "execution_count": 166,
   "metadata": {},
   "outputs": [
    {
     "data": {
      "text/plain": [
       "CLAVE                    object\n",
       "SITIO                    object\n",
       "ORGANISMO_DE_CUENCA      object\n",
       "ESTADO                   object\n",
       "MUNICIPIO                object\n",
       "ACUIFERO                 object\n",
       "SUBTIPO                  object\n",
       "LONGITUD                float64\n",
       "LATITUD                 float64\n",
       "PERIODO                 float64\n",
       "ALC_mg/L                float64\n",
       "CALIDAD_ALC              object\n",
       "CONDUCT_mS/cm           float64\n",
       "CALIDAD_CONDUC           object\n",
       "SDT_M_mg/L              float64\n",
       "CALIDAD_SDT_ra           object\n",
       "CALIDAD_SDT_salin        object\n",
       "FLUORUROS_mg/L          float64\n",
       "CALIDAD_FLUO             object\n",
       "DUR_mg/L                float64\n",
       "CALIDAD_DUR              object\n",
       "COLI_FEC_NMP/100_mL     float64\n",
       "CALIDAD_COLI_FEC         object\n",
       "N_NO3_mg/L              float64\n",
       "CALIDAD_N_NO3            object\n",
       "AS_TOT_mg/L             float64\n",
       "CALIDAD_AS               object\n",
       "CD_TOT_mg/L             float64\n",
       "CALIDAD_CD               object\n",
       "CR_TOT_mg/L             float64\n",
       "CALIDAD_CR               object\n",
       "HG_TOT_mg/L             float64\n",
       "CALIDAD_HG               object\n",
       "PB_TOT_mg/L             float64\n",
       "CALIDAD_PB               object\n",
       "MN_TOT_mg/L             float64\n",
       "CALIDAD_MN               object\n",
       "FE_TOT_mg/L             float64\n",
       "CALIDAD_FE               object\n",
       "SEMAFORO                 object\n",
       "CUMPLE_CON_ALC           object\n",
       "CUMPLE_CON_COND          object\n",
       "CUMPLE_CON_SDT_ra        object\n",
       "CUMPLE_CON_SDT_salin     object\n",
       "CUMPLE_CON_FLUO          object\n",
       "CUMPLE_CON_DUR           object\n",
       "CUMPLE_CON_CF            object\n",
       "CUMPLE_CON_NO3           object\n",
       "CUMPLE_CON_AS            object\n",
       "CUMPLE_CON_CD            object\n",
       "CUMPLE_CON_CR            object\n",
       "CUMPLE_CON_HG            object\n",
       "CUMPLE_CON_PB            object\n",
       "CUMPLE_CON_MN            object\n",
       "CUMPLE_CON_FE            object\n",
       "dtype: object"
      ]
     },
     "execution_count": 166,
     "metadata": {},
     "output_type": "execute_result"
    }
   ],
   "source": [
    "df_sub.drop(columns=['SDT_mg/L','CONTAMINANTES'], inplace= True)\n",
    "df_sub.dropna(inplace=True)\n",
    "df_sub.replace({'<': ''}, regex=True, inplace = True)\n",
    "\n",
    "df_columns = df_sub.columns\n",
    "\n",
    "for col in df_columns:\n",
    "    try:\n",
    "        df_sub[col] = df_sub[col].astype('float')\n",
    "    except:\n",
    "        df_sub[col] = df_sub[col].astype('str')\n",
    "\n",
    "df_sub.dtypes"
   ]
  },
  {
   "cell_type": "markdown",
   "metadata": {},
   "source": [
    "Se eliminan las primeras 7 Columnas y las columnas que empiezan con calidad"
   ]
  },
  {
   "cell_type": "code",
   "execution_count": 167,
   "metadata": {},
   "outputs": [
    {
     "data": {
      "text/plain": [
       "['CALIDAD_ALC',\n",
       " 'CALIDAD_CONDUC',\n",
       " 'CALIDAD_SDT_ra',\n",
       " 'CALIDAD_SDT_salin',\n",
       " 'CALIDAD_FLUO',\n",
       " 'CALIDAD_DUR',\n",
       " 'CALIDAD_COLI_FEC',\n",
       " 'CALIDAD_N_NO3',\n",
       " 'CALIDAD_AS',\n",
       " 'CALIDAD_CD',\n",
       " 'CALIDAD_CR',\n",
       " 'CALIDAD_HG',\n",
       " 'CALIDAD_PB',\n",
       " 'CALIDAD_MN',\n",
       " 'CALIDAD_FE']"
      ]
     },
     "execution_count": 167,
     "metadata": {},
     "output_type": "execute_result"
    }
   ],
   "source": [
    "[x for x in df_sub.columns if x.startswith('CALIDAD')]"
   ]
  },
  {
   "cell_type": "code",
   "execution_count": 168,
   "metadata": {},
   "outputs": [],
   "source": [
    "df_sub.drop([\n",
    " 'CLAVE', \n",
    " 'SITIO', \n",
    " 'ORGANISMO_DE_CUENCA', \n",
    " 'ESTADO', \n",
    " 'MUNICIPIO',\n",
    " 'ACUIFERO', \n",
    " 'SUBTIPO',\n",
    " 'CALIDAD_ALC',\n",
    " 'CALIDAD_CONDUC',\n",
    " 'CALIDAD_SDT_ra',\n",
    " 'CALIDAD_SDT_salin',\n",
    " 'CALIDAD_FLUO',\n",
    " 'CALIDAD_DUR',\n",
    " 'CALIDAD_COLI_FEC',\n",
    " 'CALIDAD_N_NO3',\n",
    " 'CALIDAD_AS',\n",
    " 'CALIDAD_CD',\n",
    " 'CALIDAD_CR',\n",
    " 'CALIDAD_HG',\n",
    " 'CALIDAD_PB',\n",
    " 'CALIDAD_MN',\n",
    " 'CALIDAD_FE'], axis=1, inplace=True)"
   ]
  },
  {
   "cell_type": "code",
   "execution_count": 169,
   "metadata": {},
   "outputs": [
    {
     "data": {
      "text/plain": [
       "\"df_sub.drop([\\n 'CLAVE', \\n 'SITIO', \\n 'ORGANISMO_DE_CUENCA', \\n 'ESTADO', \\n 'MUNICIPIO',\\n 'ACUIFERO', \\n 'SUBTIPO'], axis=1, inplace=True)\""
      ]
     },
     "execution_count": 169,
     "metadata": {},
     "output_type": "execute_result"
    }
   ],
   "source": [
    "'''df_sub.drop([\n",
    " 'CLAVE', \n",
    " 'SITIO', \n",
    " 'ORGANISMO_DE_CUENCA', \n",
    " 'ESTADO', \n",
    " 'MUNICIPIO',\n",
    " 'ACUIFERO', \n",
    " 'SUBTIPO'], axis=1, inplace=True)'''"
   ]
  },
  {
   "cell_type": "markdown",
   "metadata": {},
   "source": [
    "Train - Test split"
   ]
  },
  {
   "cell_type": "code",
   "execution_count": 170,
   "metadata": {},
   "outputs": [],
   "source": [
    "X_train, X_test, y_train, y_test = train_test_split(df_sub.drop('SEMAFORO', axis=1), df_sub[['SEMAFORO']], test_size= 0.2, stratify=df_sub[['SEMAFORO']])"
   ]
  },
  {
   "cell_type": "code",
   "execution_count": 171,
   "metadata": {},
   "outputs": [
    {
     "data": {
      "text/plain": [
       "SEMAFORO\n",
       "Verde       0.404508\n",
       "Rojo        0.362989\n",
       "Amarillo    0.232503\n",
       "dtype: float64"
      ]
     },
     "execution_count": 171,
     "metadata": {},
     "output_type": "execute_result"
    }
   ],
   "source": [
    "y_train.value_counts()/y_train.value_counts().sum()"
   ]
  },
  {
   "cell_type": "code",
   "execution_count": 172,
   "metadata": {},
   "outputs": [
    {
     "data": {
      "text/plain": [
       "SEMAFORO\n",
       "Verde       0.407583\n",
       "Rojo        0.360190\n",
       "Amarillo    0.232227\n",
       "dtype: float64"
      ]
     },
     "execution_count": 172,
     "metadata": {},
     "output_type": "execute_result"
    }
   ],
   "source": [
    "y_test.value_counts()/y_test.value_counts().sum()"
   ]
  },
  {
   "cell_type": "markdown",
   "metadata": {},
   "source": [
    "Pipelines"
   ]
  },
  {
   "cell_type": "code",
   "execution_count": 173,
   "metadata": {},
   "outputs": [
    {
     "name": "stderr",
     "output_type": "stream",
     "text": [
      "c:\\Users\\PSC6806\\Anaconda3\\lib\\site-packages\\sklearn\\preprocessing\\_data.py:3253: RuntimeWarning: divide by zero encountered in log\n",
      "  loglike = -n_samples / 2 * np.log(x_trans.var())\n"
     ]
    }
   ],
   "source": [
    "#Variables Categoricas\n",
    "categorical_pipeline = Pipeline(steps=[('encoder', preprocessing.OrdinalEncoder())])\n",
    "categorical_columns =  list(X_train.columns[X_train.dtypes == 'object'])\n",
    "\n",
    "#Variables numericas\n",
    "numerical_pipeline = Pipeline(steps=[('num_transformation',preprocessing.PowerTransformer(method='yeo-johnson', standardize = True))])\n",
    "numerical_columns = list(X_train.columns[X_train.dtypes == 'float64'])\n",
    "\n",
    "#Transformers X\n",
    "x_col_transformer = ColumnTransformer(\n",
    "                                        transformers = [('categorical_t',categorical_pipeline, categorical_columns),\n",
    "                                                        ('numerical_t', numerical_pipeline, numerical_columns)],\n",
    "                                        remainder='passthrough'\n",
    "                                     )\n",
    "\n",
    "#Transformer y\n",
    "y_col_transformer = ColumnTransformer(\n",
    "                                        transformers = [('categorical_t',categorical_pipeline, ['SEMAFORO'])],\n",
    "                                        remainder='passthrough'\n",
    "                                     )\n",
    "\n",
    "X_fit = x_col_transformer.fit(X_train)\n",
    "y_fit = y_col_transformer.fit(y_train)\n",
    "\n",
    "X_train_t = X_fit.transform(X_train)\n",
    "X_test_t = X_fit.transform(X_test)\n",
    "\n",
    "y_train_t = y_fit.transform(y_train)\n",
    "y_test_t = y_fit.transform(y_test)"
   ]
  },
  {
   "cell_type": "markdown",
   "metadata": {},
   "source": [
    "Modelo"
   ]
  },
  {
   "cell_type": "code",
   "execution_count": 174,
   "metadata": {},
   "outputs": [],
   "source": [
    "model_name = []\n",
    "models = []\n",
    "\n",
    "#Perceptrón multicapa\n",
    "model_name.append('Decision Tree')\n",
    "models.append(DecisionTreeClassifier())\n",
    "\n",
    "# Random forest\n",
    "model_name.append('Random forest')\n",
    "models.append(RandomForestClassifier())"
   ]
  },
  {
   "cell_type": "code",
   "execution_count": 175,
   "metadata": {},
   "outputs": [
    {
     "name": "stderr",
     "output_type": "stream",
     "text": [
      "C:\\Users\\PSC6806\\AppData\\Local\\Temp\\ipykernel_8988\\4241601802.py:2: DataConversionWarning: A column-vector y was passed when a 1d array was expected. Please change the shape of y to (n_samples,), for example using ravel().\n",
      "  rf.fit(X_train_t, y_train_t)\n"
     ]
    }
   ],
   "source": [
    "rf = RandomForestClassifier(class_weight='balanced')\n",
    "rf.fit(X_train_t, y_train_t)\n",
    " \n",
    "y_hat= rf.predict(X_test_t)"
   ]
  },
  {
   "cell_type": "code",
   "execution_count": 176,
   "metadata": {},
   "outputs": [
    {
     "data": {
      "text/plain": [
       "<AxesSubplot:>"
      ]
     },
     "execution_count": 176,
     "metadata": {},
     "output_type": "execute_result"
    },
    {
     "data": {
      "image/png": "[encoded data removed]",
      "text/plain": [
       "<Figure size 640x480 with 1 Axes>"
      ]
     },
     "metadata": {},
     "output_type": "display_data"
    }
   ],
   "source": [
    "cm = confusion_matrix(y_test_t, y_hat)\n",
    "sns.heatmap(cm, annot=True, cmap='Blues',cbar=False)\n"
   ]
  },
  {
   "cell_type": "code",
   "execution_count": 177,
   "metadata": {},
   "outputs": [
    {
     "data": {
      "text/plain": [
       "['CUMPLE_CON_ALC',\n",
       " 'CUMPLE_CON_COND',\n",
       " 'CUMPLE_CON_SDT_ra',\n",
       " 'CUMPLE_CON_SDT_salin',\n",
       " 'CUMPLE_CON_FLUO',\n",
       " 'CUMPLE_CON_DUR',\n",
       " 'CUMPLE_CON_CF',\n",
       " 'CUMPLE_CON_NO3',\n",
       " 'CUMPLE_CON_AS',\n",
       " 'CUMPLE_CON_CD',\n",
       " 'CUMPLE_CON_CR',\n",
       " 'CUMPLE_CON_HG',\n",
       " 'CUMPLE_CON_PB',\n",
       " 'CUMPLE_CON_MN',\n",
       " 'CUMPLE_CON_FE',\n",
       " 'LONGITUD',\n",
       " 'LATITUD',\n",
       " 'PERIODO',\n",
       " 'ALC_mg/L',\n",
       " 'CONDUCT_mS/cm',\n",
       " 'SDT_M_mg/L',\n",
       " 'FLUORUROS_mg/L',\n",
       " 'DUR_mg/L',\n",
       " 'COLI_FEC_NMP/100_mL',\n",
       " 'N_NO3_mg/L',\n",
       " 'AS_TOT_mg/L',\n",
       " 'CD_TOT_mg/L',\n",
       " 'CR_TOT_mg/L',\n",
       " 'HG_TOT_mg/L',\n",
       " 'PB_TOT_mg/L',\n",
       " 'MN_TOT_mg/L',\n",
       " 'FE_TOT_mg/L']"
      ]
     },
     "execution_count": 177,
     "metadata": {},
     "output_type": "execute_result"
    }
   ],
   "source": [
    "categorical_columns + numerical_columns"
   ]
  },
  {
   "cell_type": "code",
   "execution_count": 178,
   "metadata": {},
   "outputs": [
    {
     "name": "stderr",
     "output_type": "stream",
     "text": [
      "C:\\Users\\PSC6806\\AppData\\Local\\Temp\\ipykernel_8988\\1004873824.py:6: DataConversionWarning: A column-vector y was passed when a 1d array was expected. Please change the shape of y to (n_samples,), for example using ravel().\n",
      "  forest.fit(X_train_t, y_train_t)\n"
     ]
    },
    {
     "name": "stdout",
     "output_type": "stream",
     "text": [
      "Elapsed time to compute the importances: 3.069 seconds\n"
     ]
    },
    {
     "data": {
      "image/png": "[encoded data removed]",
      "text/plain": [
       "<Figure size 1500x1000 with 1 Axes>"
      ]
     },
     "metadata": {},
     "output_type": "display_data"
    }
   ],
   "source": [
    "from sklearn.inspection import permutation_importance\n",
    "import time\n",
    "\n",
    "feature_names = categorical_columns + numerical_columns\n",
    "forest = RandomForestClassifier(random_state=0)\n",
    "forest.fit(X_train_t, y_train_t)\n",
    "\n",
    "start_time = time.time()\n",
    "result = permutation_importance(\n",
    "    forest, X_test_t, y_test_t, n_repeats=10, random_state=42, n_jobs=2\n",
    ")\n",
    "elapsed_time = time.time() - start_time\n",
    "print(f\"Elapsed time to compute the importances: {elapsed_time:.3f} seconds\")\n",
    "\n",
    "forest_importances = pd.Series(result.importances_mean, index=feature_names)\n",
    "\n",
    "fig, ax = plt.subplots(figsize = (15,10))\n",
    "forest_importances.plot.bar(yerr=result.importances_std, ax=ax)\n",
    "ax.set_title(\"Feature importances using permutation on full model\")\n",
    "ax.set_ylabel(\"Mean accuracy decrease\")\n",
    "fig.tight_layout()\n",
    "plt.show()"
   ]
  },
  {
   "cell_type": "code",
   "execution_count": 179,
   "metadata": {},
   "outputs": [
    {
     "data": {
      "text/plain": [
       "FLUORUROS_mg/L         0.154976\n",
       "DUR_mg/L               0.113270\n",
       "AS_TOT_mg/L            0.087678\n",
       "COLI_FEC_NMP/100_mL    0.075829\n",
       "FE_TOT_mg/L            0.055450\n",
       "MN_TOT_mg/L            0.050237\n",
       "CUMPLE_CON_COND        0.048341\n",
       "CUMPLE_CON_NO3         0.041706\n",
       "CUMPLE_CON_FLUO        0.030332\n",
       "CUMPLE_CON_DUR         0.029384\n",
       "N_NO3_mg/L             0.028910\n",
       "CUMPLE_CON_CF          0.010427\n",
       "CUMPLE_CON_MN          0.010427\n",
       "CUMPLE_CON_AS          0.009953\n",
       "ALC_mg/L               0.008057\n",
       "CUMPLE_CON_ALC         0.006161\n",
       "CUMPLE_CON_CR          0.004739\n",
       "CR_TOT_mg/L            0.003318\n",
       "CUMPLE_CON_FE          0.001896\n",
       "LATITUD               -0.000474\n",
       "dtype: float64"
      ]
     },
     "execution_count": 179,
     "metadata": {},
     "output_type": "execute_result"
    }
   ],
   "source": [
    "forest_importances[forest_importances != 0].sort_values(ascending=False)"
   ]
  },
  {
   "cell_type": "code",
   "execution_count": 180,
   "metadata": {},
   "outputs": [
    {
     "data": {
      "text/plain": [
       "Index(['CUMPLE_CON_ALC', 'CUMPLE_CON_COND', 'CUMPLE_CON_FLUO',\n",
       "       'CUMPLE_CON_DUR', 'CUMPLE_CON_CF', 'CUMPLE_CON_NO3', 'CUMPLE_CON_AS',\n",
       "       'CUMPLE_CON_CR', 'CUMPLE_CON_MN', 'CUMPLE_CON_FE', 'LATITUD',\n",
       "       'ALC_mg/L', 'FLUORUROS_mg/L', 'DUR_mg/L', 'COLI_FEC_NMP/100_mL',\n",
       "       'N_NO3_mg/L', 'AS_TOT_mg/L', 'CR_TOT_mg/L', 'MN_TOT_mg/L',\n",
       "       'FE_TOT_mg/L'],\n",
       "      dtype='object')"
      ]
     },
     "execution_count": 180,
     "metadata": {},
     "output_type": "execute_result"
    }
   ],
   "source": [
    "final_fetures = forest_importances[forest_importances != 0].index\n",
    "final_fetures"
   ]
  },
  {
   "cell_type": "markdown",
   "metadata": {},
   "source": [
    "Modelo final"
   ]
  },
  {
   "cell_type": "code",
   "execution_count": 183,
   "metadata": {},
   "outputs": [],
   "source": [
    "y_labels = ['Amarillo', 'Rojo', 'Verde']"
   ]
  },
  {
   "cell_type": "code",
   "execution_count": 194,
   "metadata": {},
   "outputs": [
    {
     "name": "stderr",
     "output_type": "stream",
     "text": [
      "C:\\Users\\PSC6806\\AppData\\Local\\Temp\\ipykernel_8988\\1202655642.py:4: DataConversionWarning: A column-vector y was passed when a 1d array was expected. Please change the shape of y to (n_samples,), for example using ravel().\n",
      "  rf.fit(X_train_t[:,index_col], y_train_t)\n"
     ]
    },
    {
     "data": {
      "text/plain": [
       "Text(50.722222222222214, 0.5, 'Predicted values')"
      ]
     },
     "execution_count": 194,
     "metadata": {},
     "output_type": "execute_result"
    },
    {
     "data": {
      "image/png": "[encoded data removed]",
      "text/plain": [
       "<Figure size 640x480 with 1 Axes>"
      ]
     },
     "metadata": {},
     "output_type": "display_data"
    }
   ],
   "source": [
    "index_col = [i in final_fetures for i in feature_names]\n",
    "\n",
    "rf = RandomForestClassifier(class_weight='balanced')\n",
    "rf.fit(X_train_t[:,index_col], y_train_t)\n",
    " \n",
    "y_hat= rf.predict(X_test_t[:,index_col])\n",
    "\n",
    "cm = confusion_matrix(y_test_t, y_hat)\n",
    "\n",
    "fig, ax = plt.subplots()\n",
    "sns.heatmap(cm, annot=True, cmap='Blues',cbar=False,ax=ax)\n",
    "plt.xticks([0.5,1.5,2.5], y_labels)\n",
    "plt.yticks([0.5,1.5,2.5], y_labels)\n",
    "\n",
    "plt.title('Confusion Matrix Random Forest')\n",
    "plt.xlabel('True Values')\n",
    "plt.ylabel('Predicted values')"
   ]
  },
  {
   "cell_type": "code",
   "execution_count": 201,
   "metadata": {},
   "outputs": [
    {
     "name": "stdout",
     "output_type": "stream",
     "text": [
      "              precision    recall  f1-score   support\n",
      "\n",
      "    Amarillo       0.98      1.00      0.99        49\n",
      "        Rojo       0.99      0.99      0.99        76\n",
      "       Verde       1.00      0.99      0.99        86\n",
      "\n",
      "    accuracy                           0.99       211\n",
      "   macro avg       0.99      0.99      0.99       211\n",
      "weighted avg       0.99      0.99      0.99       211\n",
      "\n"
     ]
    }
   ],
   "source": [
    "#Classification report - Random Forest\n",
    "print(classification_report(y_test_t, y_hat, target_names= y_labels))"
   ]
  },
  {
   "cell_type": "code",
   "execution_count": 204,
   "metadata": {},
   "outputs": [
    {
     "data": {
      "text/plain": [
       "Text(50.722222222222214, 0.5, 'Predicted values')"
      ]
     },
     "execution_count": 204,
     "metadata": {},
     "output_type": "execute_result"
    },
    {
     "data": {
      "image/png": "[encoded data removed]",
      "text/plain": [
       "<Figure size 640x480 with 1 Axes>"
      ]
     },
     "metadata": {},
     "output_type": "display_data"
    }
   ],
   "source": [
    "dt = DecisionTreeClassifier(class_weight='balanced')\n",
    "dt.fit(X_train_t[:,index_col], y_train_t)\n",
    " \n",
    "y_hat= dt.predict(X_test_t[:,index_col])\n",
    "\n",
    "cm = confusion_matrix(y_test_t, y_hat)\n",
    "\n",
    "fig, ax = plt.subplots()\n",
    "sns.heatmap(cm, annot=True, cmap='Blues',cbar=False,ax=ax)\n",
    "plt.xticks([0.5,1.5,2.5], y_labels)\n",
    "plt.yticks([0.5,1.5,2.5], y_labels)\n",
    "\n",
    "plt.title('Confusion Matrix Random Forest')\n",
    "plt.xlabel('True Values')\n",
    "plt.ylabel('Predicted values')"
   ]
  },
  {
   "cell_type": "code",
   "execution_count": 205,
   "metadata": {},
   "outputs": [
    {
     "name": "stdout",
     "output_type": "stream",
     "text": [
      "              precision    recall  f1-score   support\n",
      "\n",
      "    Amarillo       0.96      0.96      0.96        49\n",
      "        Rojo       0.93      0.97      0.95        76\n",
      "       Verde       1.00      0.95      0.98        86\n",
      "\n",
      "    accuracy                           0.96       211\n",
      "   macro avg       0.96      0.96      0.96       211\n",
      "weighted avg       0.96      0.96      0.96       211\n",
      "\n"
     ]
    }
   ],
   "source": [
    "#Classification report - Random Forest\n",
    "print(classification_report(y_test_t, y_hat, target_names= y_labels))"
   ]
  },
  {
   "cell_type": "markdown",
   "metadata": {},
   "source": [
    "El mejor modelo es el de Random Forest pues presenta mejores resultados tanto en \"Precision\" como en el \"Recall\" y \"F1-Score\""
   ]
  }
 ],
 "metadata": {
  "kernelspec": {
   "display_name": "Python 3.9.13 ('base')",
   "language": "python",
   "name": "python3"
  },
  "language_info": {
   "codemirror_mode": {
    "name": "ipython",
    "version": 3
   },
   "file_extension": ".py",
   "mimetype": "text/x-python",
   "name": "python",
   "nbconvert_exporter": "python",
   "pygments_lexer": "ipython3",
   "version": "3.9.13"
  },
  "orig_nbformat": 4,
  "vscode": {
   "interpreter": {
    "hash": "f881dad857779396c99416cad20b115c732e0d9df0ec2947d2a103f617295a19"
   }
  }
 },
 "nbformat": 4,
 "nbformat_minor": 2
}
